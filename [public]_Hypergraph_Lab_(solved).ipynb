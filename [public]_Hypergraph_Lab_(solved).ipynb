{
  "cells": [
    {
      "cell_type": "markdown",
      "metadata": {
        "id": "view-in-github",
        "colab_type": "text"
      },
      "source": [
        "<a href=\"https://colab.research.google.com/github/hypergraphlab/Hypergraph-Tutorial/blob/main/%5Bpublic%5D_Hypergraph_Lab_(solved).ipynb\" target=\"_parent\"><img src=\"https://colab.research.google.com/assets/colab-badge.svg\" alt=\"Open In Colab\"/></a>"
      ]
    },
    {
      "cell_type": "markdown",
      "metadata": {
        "id": "31RTznj3UwEX"
      },
      "source": [
        "## <font color = orange> Exploring Higher Order Processing Using Hypergraph Neural Networks"
      ]
    },
    {
      "cell_type": "markdown",
      "source": [
        "This is a test"
      ],
      "metadata": {
        "id": "Ytll6Y4yEMKa"
      }
    },
    {
      "cell_type": "markdown",
      "metadata": {
        "id": "mxWzBVTzB5ed"
      },
      "source": [
        "To start this lab, save a copy of this colab file and edit that 🙂."
      ]
    },
    {
      "cell_type": "markdown",
      "metadata": {
        "id": "6ekuceu8G-Td"
      },
      "source": [
        "This lab is designed to showcase and familiarise you with the basics of learning on hypergraphs. It will encompass both the theory behind hypergraph networks and putting them into practice.\n",
        "\n",
        "The lab is split into 4 main parts.\n",
        "\n",
        "**Part 1**:\n",
        "* Creating the hypergraph object\n",
        "* Understand how to work with hypergraph-structure data\n",
        "* Building a basic HNN for node-level prediction\n",
        "\n",
        "**Part 2**:\n",
        "* Comparing hypergraph methods to graph based methods\n",
        "\n",
        "**Part 3**:\n",
        "* Creating mini-batches for hypergraphs\n",
        "* Hypergraphs for graph-level prediction\n",
        "\n",
        "**Part 4**:\n",
        "* Hypergraph attention networks\n",
        "\n",
        "Hopefully these will giving natural breaks in the lab so you may come and go as you need or easily find pieces of code you may need elsewhere.\n",
        "\n",
        "**Caveat**: This lab has been put together by me, an individual with no formal qualifications or expertise in the field. If you find any mistakes please get in touch!\n",
        "\n",
        "\n",
        "\n"
      ]
    },
    {
      "cell_type": "markdown",
      "metadata": {
        "id": "IOlIWW6zkLLH"
      },
      "source": [
        "# 🤷 **Why hypergraphs?**\n",
        "\n",
        "Hypergraphs allow us to study relationships that go beyond pairwise, relationships that graph structured data fail to capture concisely.\n",
        "\n",
        "Consider a group of 5 researchers: Ann, Beth, Chris, Dave, and Erica. Ann and Chris write a paper together: ***Theory is all you need (2022)***. Ann was more interested in the theory presented in the paper while Chris was more interested in the applications. Ann collaborated with Beth and Dave developing the theory in the paper: ***Everything goes neural: a general recipe for success (2023)***. Chris collabarates with Dave and Erica to develop the applications of the theory: ***Neural networks for forecasting crocodile attacks (2023)***.\n",
        "\n",
        "The structure of this network can be easily captured using a hypergraph.\n",
        "\n",
        "<center>\n",
        "<img src=\"https://drive.google.com/uc?export=view&id=14jKa3j3Q6dCz23akR4BuYeG68E2_TY7v\"  width=\"600\">\n",
        "</center>\n",
        "\n",
        "\n",
        "\n",
        "\n",
        "However, how should we display this in a graph. We can simply connect two authors who have we written a paper together.\n",
        "\n",
        "<center>\n",
        "<img src=\"https://drive.google.com/uc?export=view&id=132DzN4gYLnmct03aOTtb68pQJcUSa6jm\"  width=\"600\">\n",
        "</center>\n",
        "\n",
        "\n",
        "However, this fails to capture the whole structure of the network and it is unclear who the authors were for a given paper. For example, if Beth and Dave wrote a paper together: ***Neural Networks: where did it all go wrong? (2024)***, the graph would remain the same as before.\n",
        "\n",
        "\n",
        "\n",
        "Another way we could try to visualise this data using a graph, is to introduce another type of nodes representing each of the papers. Not only does this increase the computational cost of a graph neural network (since there are more nodes to process and store in memory), but this leads to a heterogeneous graph, where nodes have different meaning, things that are slightly unusual for the way we are interpreting graphs in general and processing them is harder than processing usual graphs (there are some papers dedicated to heterogeneous graphs but without great results).\n",
        "\n",
        "<center>\n",
        "<img src=\"https://drive.google.com/uc?export=view&id=1IdIla9RhqLbpf8Po5m_8g_F3JxMbDGgL\"  width=\"600\">\n",
        "</center>\n",
        "\n",
        "\n",
        "\n",
        "\n",
        "\n"
      ]
    },
    {
      "cell_type": "markdown",
      "metadata": {
        "id": "W5DtRGF2Z7mJ"
      },
      "source": [
        "# **😫 Preliminaries**: Install and import modules\n",
        "\n"
      ]
    },
    {
      "cell_type": "markdown",
      "metadata": {
        "id": "cNA-6kpE4wL1"
      },
      "source": [
        "❗**Note:** If you receive an error when installing packages, restart the runtime and error should disappear. It should not take longer than 10 minutes to install everything."
      ]
    },
    {
      "cell_type": "code",
      "execution_count": null,
      "metadata": {
        "colab": {
          "base_uri": "https://localhost:8080/",
          "height": 1000
        },
        "id": "PW-uyKVLaOFd",
        "outputId": "b941fae9-e628-4b29-e42d-9a3437f31831"
      },
      "outputs": [
        {
          "output_type": "stream",
          "name": "stdout",
          "text": [
            "Looking in indexes: https://pypi.org/simple, https://us-python.pkg.dev/colab-wheels/public/simple/\n",
            "Collecting numpy\n",
            "  Using cached numpy-1.24.3-cp310-cp310-manylinux_2_17_x86_64.manylinux2014_x86_64.whl (17.3 MB)\n",
            "Installing collected packages: numpy\n",
            "  Attempting uninstall: numpy\n",
            "    Found existing installation: numpy 1.24.3\n",
            "    Uninstalling numpy-1.24.3:\n",
            "      Successfully uninstalled numpy-1.24.3\n",
            "\u001b[31mERROR: pip's dependency resolver does not currently take into account all the packages that are installed. This behaviour is the source of the following dependency conflicts.\n",
            "moviepy 1.0.3 requires decorator<5.0,>=4.0.2, but you have decorator 5.1.1 which is incompatible.\n",
            "numba 0.56.4 requires numpy<1.24,>=1.18, but you have numpy 1.24.3 which is incompatible.\n",
            "tensorflow 2.12.0 requires numpy<1.24,>=1.22, but you have numpy 1.24.3 which is incompatible.\n",
            "torchtext 0.15.2 requires torch==2.0.1, but you have torch 1.13.1 which is incompatible.\n",
            "torchvision 0.15.2+cu118 requires torch==2.0.1, but you have torch 1.13.1 which is incompatible.\u001b[0m\u001b[31m\n",
            "\u001b[0mSuccessfully installed numpy-1.24.3\n"
          ]
        },
        {
          "output_type": "display_data",
          "data": {
            "application/vnd.colab-display-data+json": {
              "pip_warning": {
                "packages": [
                  "numpy"
                ]
              }
            }
          },
          "metadata": {}
        },
        {
          "output_type": "stream",
          "name": "stdout",
          "text": [
            "Looking in indexes: https://pypi.org/simple, https://us-python.pkg.dev/colab-wheels/public/simple/\n",
            "Collecting dhg\n",
            "  Using cached dhg-0.9.3-py3-none-any.whl (162 kB)\n",
            "Collecting matplotlib (from dhg)\n",
            "  Using cached matplotlib-3.7.1-cp310-cp310-manylinux_2_17_x86_64.manylinux2014_x86_64.whl (11.6 MB)\n",
            "Collecting numpy (from dhg)\n",
            "  Using cached numpy-1.24.3-cp310-cp310-manylinux_2_17_x86_64.manylinux2014_x86_64.whl (17.3 MB)\n",
            "Collecting optuna (from dhg)\n",
            "  Using cached optuna-3.2.0-py3-none-any.whl (390 kB)\n",
            "Collecting requests (from dhg)\n",
            "  Using cached requests-2.31.0-py3-none-any.whl (62 kB)\n",
            "Collecting scikit-learn (from dhg)\n",
            "  Using cached scikit_learn-1.2.2-cp310-cp310-manylinux_2_17_x86_64.manylinux2014_x86_64.whl (9.6 MB)\n",
            "Collecting scipy<2.0,>=1.8 (from dhg)\n",
            "  Using cached scipy-1.10.1-cp310-cp310-manylinux_2_17_x86_64.manylinux2014_x86_64.whl (34.4 MB)\n",
            "Collecting torch<2.0,>=1.12.1 (from dhg)\n",
            "  Using cached torch-1.13.1-cp310-cp310-manylinux1_x86_64.whl (887.5 MB)\n",
            "Collecting typing-extensions (from torch<2.0,>=1.12.1->dhg)\n",
            "  Using cached typing_extensions-4.6.3-py3-none-any.whl (31 kB)\n",
            "Collecting nvidia-cuda-runtime-cu11==11.7.99 (from torch<2.0,>=1.12.1->dhg)\n",
            "  Using cached nvidia_cuda_runtime_cu11-11.7.99-py3-none-manylinux1_x86_64.whl (849 kB)\n",
            "Collecting nvidia-cudnn-cu11==8.5.0.96 (from torch<2.0,>=1.12.1->dhg)\n",
            "  Using cached nvidia_cudnn_cu11-8.5.0.96-2-py3-none-manylinux1_x86_64.whl (557.1 MB)\n",
            "Collecting nvidia-cublas-cu11==11.10.3.66 (from torch<2.0,>=1.12.1->dhg)\n",
            "  Using cached nvidia_cublas_cu11-11.10.3.66-py3-none-manylinux1_x86_64.whl (317.1 MB)\n",
            "Collecting nvidia-cuda-nvrtc-cu11==11.7.99 (from torch<2.0,>=1.12.1->dhg)\n",
            "  Using cached nvidia_cuda_nvrtc_cu11-11.7.99-2-py3-none-manylinux1_x86_64.whl (21.0 MB)\n",
            "Collecting setuptools (from nvidia-cublas-cu11==11.10.3.66->torch<2.0,>=1.12.1->dhg)\n",
            "  Using cached setuptools-67.8.0-py3-none-any.whl (1.1 MB)\n",
            "Collecting wheel (from nvidia-cublas-cu11==11.10.3.66->torch<2.0,>=1.12.1->dhg)\n",
            "  Using cached wheel-0.40.0-py3-none-any.whl (64 kB)\n",
            "Collecting contourpy>=1.0.1 (from matplotlib->dhg)\n",
            "  Using cached contourpy-1.1.0-cp310-cp310-manylinux_2_17_x86_64.manylinux2014_x86_64.whl (300 kB)\n",
            "Collecting cycler>=0.10 (from matplotlib->dhg)\n",
            "  Using cached cycler-0.11.0-py3-none-any.whl (6.4 kB)\n",
            "Collecting fonttools>=4.22.0 (from matplotlib->dhg)\n",
            "  Using cached fonttools-4.40.0-cp310-cp310-manylinux_2_17_x86_64.manylinux2014_x86_64.whl (4.2 MB)\n",
            "Collecting kiwisolver>=1.0.1 (from matplotlib->dhg)\n",
            "  Using cached kiwisolver-1.4.4-cp310-cp310-manylinux_2_12_x86_64.manylinux2010_x86_64.whl (1.6 MB)\n",
            "Collecting packaging>=20.0 (from matplotlib->dhg)\n",
            "  Using cached packaging-23.1-py3-none-any.whl (48 kB)\n",
            "Collecting pillow>=6.2.0 (from matplotlib->dhg)\n",
            "  Using cached Pillow-9.5.0-cp310-cp310-manylinux_2_28_x86_64.whl (3.4 MB)\n",
            "Collecting pyparsing>=2.3.1 (from matplotlib->dhg)\n",
            "  Using cached pyparsing-3.0.9-py3-none-any.whl (98 kB)\n",
            "Collecting python-dateutil>=2.7 (from matplotlib->dhg)\n",
            "  Using cached python_dateutil-2.8.2-py2.py3-none-any.whl (247 kB)\n",
            "Collecting alembic>=1.5.0 (from optuna->dhg)\n",
            "  Using cached alembic-1.11.1-py3-none-any.whl (224 kB)\n",
            "Collecting cmaes>=0.9.1 (from optuna->dhg)\n",
            "  Using cached cmaes-0.9.1-py3-none-any.whl (21 kB)\n",
            "Collecting colorlog (from optuna->dhg)\n",
            "  Using cached colorlog-6.7.0-py2.py3-none-any.whl (11 kB)\n",
            "Collecting sqlalchemy>=1.3.0 (from optuna->dhg)\n",
            "  Using cached SQLAlchemy-2.0.16-cp310-cp310-manylinux_2_17_x86_64.manylinux2014_x86_64.whl (2.7 MB)\n",
            "Collecting tqdm (from optuna->dhg)\n",
            "  Using cached tqdm-4.65.0-py3-none-any.whl (77 kB)\n",
            "Collecting PyYAML (from optuna->dhg)\n",
            "  Using cached PyYAML-6.0-cp310-cp310-manylinux_2_5_x86_64.manylinux1_x86_64.manylinux_2_12_x86_64.manylinux2010_x86_64.whl (682 kB)\n",
            "Collecting charset-normalizer<4,>=2 (from requests->dhg)\n",
            "  Using cached charset_normalizer-3.1.0-cp310-cp310-manylinux_2_17_x86_64.manylinux2014_x86_64.whl (199 kB)\n",
            "Collecting idna<4,>=2.5 (from requests->dhg)\n",
            "  Using cached idna-3.4-py3-none-any.whl (61 kB)\n",
            "Collecting urllib3<3,>=1.21.1 (from requests->dhg)\n",
            "  Using cached urllib3-2.0.3-py3-none-any.whl (123 kB)\n",
            "Collecting certifi>=2017.4.17 (from requests->dhg)\n",
            "  Using cached certifi-2023.5.7-py3-none-any.whl (156 kB)\n",
            "Collecting joblib>=1.1.1 (from scikit-learn->dhg)\n",
            "  Using cached joblib-1.2.0-py3-none-any.whl (297 kB)\n",
            "Collecting threadpoolctl>=2.0.0 (from scikit-learn->dhg)\n",
            "  Using cached threadpoolctl-3.1.0-py3-none-any.whl (14 kB)\n",
            "Collecting Mako (from alembic>=1.5.0->optuna->dhg)\n",
            "  Using cached Mako-1.2.4-py3-none-any.whl (78 kB)\n",
            "Collecting six>=1.5 (from python-dateutil>=2.7->matplotlib->dhg)\n",
            "  Using cached six-1.16.0-py2.py3-none-any.whl (11 kB)\n",
            "Collecting greenlet!=0.4.17 (from sqlalchemy>=1.3.0->optuna->dhg)\n",
            "  Using cached greenlet-2.0.2-cp310-cp310-manylinux_2_17_x86_64.manylinux2014_x86_64.whl (613 kB)\n",
            "Collecting MarkupSafe>=0.9.2 (from Mako->alembic>=1.5.0->optuna->dhg)\n",
            "  Using cached MarkupSafe-2.1.3-cp310-cp310-manylinux_2_17_x86_64.manylinux2014_x86_64.whl (25 kB)\n",
            "Installing collected packages: wheel, urllib3, typing-extensions, tqdm, threadpoolctl, six, setuptools, PyYAML, pyparsing, pillow, packaging, nvidia-cuda-nvrtc-cu11, numpy, MarkupSafe, kiwisolver, joblib, idna, greenlet, fonttools, cycler, colorlog, charset-normalizer, certifi, sqlalchemy, scipy, requests, python-dateutil, nvidia-cuda-runtime-cu11, nvidia-cublas-cu11, Mako, contourpy, cmaes, scikit-learn, nvidia-cudnn-cu11, matplotlib, alembic, torch, optuna, dhg\n",
            "  Attempting uninstall: wheel\n",
            "    Found existing installation: wheel 0.40.0\n",
            "    Uninstalling wheel-0.40.0:\n",
            "      Successfully uninstalled wheel-0.40.0\n",
            "  Attempting uninstall: urllib3\n",
            "    Found existing installation: urllib3 2.0.3\n",
            "    Uninstalling urllib3-2.0.3:\n",
            "      Successfully uninstalled urllib3-2.0.3\n",
            "  Attempting uninstall: typing-extensions\n",
            "    Found existing installation: typing_extensions 4.6.3\n",
            "    Uninstalling typing_extensions-4.6.3:\n",
            "      Successfully uninstalled typing_extensions-4.6.3\n",
            "  Attempting uninstall: tqdm\n",
            "    Found existing installation: tqdm 4.65.0\n",
            "    Uninstalling tqdm-4.65.0:\n",
            "      Successfully uninstalled tqdm-4.65.0\n",
            "  Attempting uninstall: threadpoolctl\n",
            "    Found existing installation: threadpoolctl 3.1.0\n",
            "    Uninstalling threadpoolctl-3.1.0:\n",
            "      Successfully uninstalled threadpoolctl-3.1.0\n",
            "  Attempting uninstall: six\n",
            "    Found existing installation: six 1.16.0\n",
            "    Uninstalling six-1.16.0:\n",
            "      Successfully uninstalled six-1.16.0\n",
            "  Attempting uninstall: setuptools\n",
            "    Found existing installation: setuptools 67.8.0\n",
            "    Uninstalling setuptools-67.8.0:\n",
            "      Successfully uninstalled setuptools-67.8.0\n",
            "  Attempting uninstall: PyYAML\n",
            "    Found existing installation: PyYAML 6.0\n",
            "    Uninstalling PyYAML-6.0:\n",
            "      Successfully uninstalled PyYAML-6.0\n",
            "  Attempting uninstall: pyparsing\n",
            "    Found existing installation: pyparsing 3.0.9\n",
            "    Uninstalling pyparsing-3.0.9:\n",
            "      Successfully uninstalled pyparsing-3.0.9\n",
            "  Attempting uninstall: pillow\n",
            "    Found existing installation: Pillow 9.5.0\n",
            "    Uninstalling Pillow-9.5.0:\n",
            "      Successfully uninstalled Pillow-9.5.0\n",
            "  Attempting uninstall: packaging\n",
            "    Found existing installation: packaging 23.1\n",
            "    Uninstalling packaging-23.1:\n",
            "      Successfully uninstalled packaging-23.1\n",
            "  Attempting uninstall: nvidia-cuda-nvrtc-cu11\n",
            "    Found existing installation: nvidia-cuda-nvrtc-cu11 11.7.99\n",
            "    Uninstalling nvidia-cuda-nvrtc-cu11-11.7.99:\n",
            "      Successfully uninstalled nvidia-cuda-nvrtc-cu11-11.7.99\n",
            "  Attempting uninstall: numpy\n",
            "    Found existing installation: numpy 1.24.3\n",
            "    Uninstalling numpy-1.24.3:\n",
            "      Successfully uninstalled numpy-1.24.3\n",
            "  Attempting uninstall: MarkupSafe\n",
            "    Found existing installation: MarkupSafe 2.1.3\n",
            "    Uninstalling MarkupSafe-2.1.3:\n",
            "      Successfully uninstalled MarkupSafe-2.1.3\n",
            "  Attempting uninstall: kiwisolver\n",
            "    Found existing installation: kiwisolver 1.4.4\n",
            "    Uninstalling kiwisolver-1.4.4:\n",
            "      Successfully uninstalled kiwisolver-1.4.4\n",
            "  Attempting uninstall: joblib\n",
            "    Found existing installation: joblib 1.2.0\n",
            "    Uninstalling joblib-1.2.0:\n",
            "      Successfully uninstalled joblib-1.2.0\n",
            "  Attempting uninstall: idna\n",
            "    Found existing installation: idna 3.4\n",
            "    Uninstalling idna-3.4:\n",
            "      Successfully uninstalled idna-3.4\n",
            "  Attempting uninstall: greenlet\n",
            "    Found existing installation: greenlet 2.0.2\n",
            "    Uninstalling greenlet-2.0.2:\n",
            "      Successfully uninstalled greenlet-2.0.2\n",
            "  Attempting uninstall: fonttools\n",
            "    Found existing installation: fonttools 4.40.0\n",
            "    Uninstalling fonttools-4.40.0:\n",
            "      Successfully uninstalled fonttools-4.40.0\n",
            "  Attempting uninstall: cycler\n",
            "    Found existing installation: cycler 0.11.0\n",
            "    Uninstalling cycler-0.11.0:\n",
            "      Successfully uninstalled cycler-0.11.0\n",
            "  Attempting uninstall: colorlog\n",
            "    Found existing installation: colorlog 6.7.0\n",
            "    Uninstalling colorlog-6.7.0:\n",
            "      Successfully uninstalled colorlog-6.7.0\n",
            "  Attempting uninstall: charset-normalizer\n",
            "    Found existing installation: charset-normalizer 3.1.0\n",
            "    Uninstalling charset-normalizer-3.1.0:\n",
            "      Successfully uninstalled charset-normalizer-3.1.0\n",
            "  Attempting uninstall: certifi\n",
            "    Found existing installation: certifi 2023.5.7\n",
            "    Uninstalling certifi-2023.5.7:\n",
            "      Successfully uninstalled certifi-2023.5.7\n",
            "  Attempting uninstall: sqlalchemy\n",
            "    Found existing installation: SQLAlchemy 2.0.16\n",
            "    Uninstalling SQLAlchemy-2.0.16:\n",
            "      Successfully uninstalled SQLAlchemy-2.0.16\n",
            "  Attempting uninstall: scipy\n",
            "    Found existing installation: scipy 1.10.1\n",
            "    Uninstalling scipy-1.10.1:\n",
            "      Successfully uninstalled scipy-1.10.1\n",
            "  Attempting uninstall: requests\n",
            "    Found existing installation: requests 2.31.0\n",
            "    Uninstalling requests-2.31.0:\n",
            "      Successfully uninstalled requests-2.31.0\n",
            "  Attempting uninstall: python-dateutil\n",
            "    Found existing installation: python-dateutil 2.8.2\n",
            "    Uninstalling python-dateutil-2.8.2:\n",
            "      Successfully uninstalled python-dateutil-2.8.2\n",
            "  Attempting uninstall: nvidia-cuda-runtime-cu11\n",
            "    Found existing installation: nvidia-cuda-runtime-cu11 11.7.99\n",
            "    Uninstalling nvidia-cuda-runtime-cu11-11.7.99:\n",
            "      Successfully uninstalled nvidia-cuda-runtime-cu11-11.7.99\n",
            "  Attempting uninstall: nvidia-cublas-cu11\n",
            "    Found existing installation: nvidia-cublas-cu11 11.10.3.66\n",
            "    Uninstalling nvidia-cublas-cu11-11.10.3.66:\n",
            "      Successfully uninstalled nvidia-cublas-cu11-11.10.3.66\n",
            "  Attempting uninstall: Mako\n",
            "    Found existing installation: Mako 1.2.4\n",
            "    Uninstalling Mako-1.2.4:\n",
            "      Successfully uninstalled Mako-1.2.4\n",
            "  Attempting uninstall: contourpy\n",
            "    Found existing installation: contourpy 1.1.0\n",
            "    Uninstalling contourpy-1.1.0:\n",
            "      Successfully uninstalled contourpy-1.1.0\n",
            "  Attempting uninstall: cmaes\n",
            "    Found existing installation: cmaes 0.9.1\n",
            "    Uninstalling cmaes-0.9.1:\n",
            "      Successfully uninstalled cmaes-0.9.1\n",
            "  Attempting uninstall: scikit-learn\n",
            "    Found existing installation: scikit-learn 1.2.2\n",
            "    Uninstalling scikit-learn-1.2.2:\n",
            "      Successfully uninstalled scikit-learn-1.2.2\n",
            "  Attempting uninstall: nvidia-cudnn-cu11\n",
            "    Found existing installation: nvidia-cudnn-cu11 8.5.0.96\n",
            "    Uninstalling nvidia-cudnn-cu11-8.5.0.96:\n",
            "      Successfully uninstalled nvidia-cudnn-cu11-8.5.0.96\n",
            "  Attempting uninstall: matplotlib\n",
            "    Found existing installation: matplotlib 3.7.1\n",
            "    Uninstalling matplotlib-3.7.1:\n",
            "      Successfully uninstalled matplotlib-3.7.1\n",
            "  Attempting uninstall: alembic\n",
            "    Found existing installation: alembic 1.11.1\n",
            "    Uninstalling alembic-1.11.1:\n",
            "      Successfully uninstalled alembic-1.11.1\n",
            "  Attempting uninstall: torch\n",
            "    Found existing installation: torch 1.13.1\n",
            "    Uninstalling torch-1.13.1:\n",
            "      Successfully uninstalled torch-1.13.1\n",
            "  Attempting uninstall: optuna\n",
            "    Found existing installation: optuna 3.2.0\n",
            "    Uninstalling optuna-3.2.0:\n",
            "      Successfully uninstalled optuna-3.2.0\n",
            "  Attempting uninstall: dhg\n",
            "    Found existing installation: dhg 0.9.3\n",
            "    Uninstalling dhg-0.9.3:\n",
            "      Successfully uninstalled dhg-0.9.3\n",
            "\u001b[31mERROR: pip's dependency resolver does not currently take into account all the packages that are installed. This behaviour is the source of the following dependency conflicts.\n",
            "ipython 7.34.0 requires jedi>=0.16, which is not installed.\n",
            "google-colab 1.0.0 requires requests==2.27.1, but you have requests 2.31.0 which is incompatible.\n",
            "moviepy 1.0.3 requires decorator<5.0,>=4.0.2, but you have decorator 5.1.1 which is incompatible.\n",
            "numba 0.56.4 requires numpy<1.24,>=1.18, but you have numpy 1.24.3 which is incompatible.\n",
            "tensorflow 2.12.0 requires numpy<1.24,>=1.22, but you have numpy 1.24.3 which is incompatible.\n",
            "torchaudio 2.0.2+cu118 requires torch==2.0.1, but you have torch 1.13.1 which is incompatible.\n",
            "torchdata 0.6.1 requires torch==2.0.1, but you have torch 1.13.1 which is incompatible.\n",
            "torchtext 0.15.2 requires torch==2.0.1, but you have torch 1.13.1 which is incompatible.\n",
            "torchvision 0.15.2+cu118 requires torch==2.0.1, but you have torch 1.13.1 which is incompatible.\u001b[0m\u001b[31m\n",
            "\u001b[0mSuccessfully installed Mako-1.2.4 MarkupSafe-2.1.3 PyYAML-6.0 alembic-1.11.1 certifi-2023.5.7 charset-normalizer-3.1.0 cmaes-0.9.1 colorlog-6.7.0 contourpy-1.1.0 cycler-0.11.0 dhg-0.9.3 fonttools-4.40.0 greenlet-2.0.2 idna-3.4 joblib-1.2.0 kiwisolver-1.4.4 matplotlib-3.7.1 numpy-1.24.3 nvidia-cublas-cu11-11.10.3.66 nvidia-cuda-nvrtc-cu11-11.7.99 nvidia-cuda-runtime-cu11-11.7.99 nvidia-cudnn-cu11-8.5.0.96 optuna-3.2.0 packaging-23.1 pillow-9.5.0 pyparsing-3.0.9 python-dateutil-2.8.2 requests-2.31.0 scikit-learn-1.2.2 scipy-1.10.1 setuptools-67.8.0 six-1.16.0 sqlalchemy-2.0.16 threadpoolctl-3.1.0 torch-1.13.1 tqdm-4.65.0 typing-extensions-4.6.3 urllib3-2.0.3 wheel-0.40.0\n"
          ]
        },
        {
          "output_type": "display_data",
          "data": {
            "application/vnd.colab-display-data+json": {
              "pip_warning": {
                "packages": [
                  "PIL",
                  "_distutils_hack",
                  "certifi",
                  "cycler",
                  "dateutil",
                  "kiwisolver",
                  "matplotlib",
                  "mpl_toolkits",
                  "numpy",
                  "pkg_resources",
                  "setuptools",
                  "six"
                ]
              }
            }
          },
          "metadata": {}
        },
        {
          "output_type": "stream",
          "name": "stdout",
          "text": [
            "Looking in indexes: https://pypi.org/simple, https://us-python.pkg.dev/colab-wheels/public/simple/\n",
            "Requirement already satisfied: hypernetx in /usr/local/lib/python3.10/dist-packages (2.0.0.post1)\n",
            "Requirement already satisfied: networkx<3.0,>=2.2 in /usr/local/lib/python3.10/dist-packages (from hypernetx) (2.8.8)\n",
            "Requirement already satisfied: numpy<2.0,>=1.24.0 in /usr/local/lib/python3.10/dist-packages (from hypernetx) (1.24.3)\n",
            "Requirement already satisfied: scipy<2.0,>=1.1.0 in /usr/local/lib/python3.10/dist-packages (from hypernetx) (1.10.1)\n",
            "Requirement already satisfied: matplotlib>3.0 in /usr/local/lib/python3.10/dist-packages (from hypernetx) (3.7.1)\n",
            "Requirement already satisfied: scikit-learn>=0.20.0 in /usr/local/lib/python3.10/dist-packages (from hypernetx) (1.2.2)\n",
            "Requirement already satisfied: pandas>=1.5.3 in /usr/local/lib/python3.10/dist-packages (from hypernetx) (1.5.3)\n",
            "Requirement already satisfied: decorator>=5.1.1 in /usr/local/lib/python3.10/dist-packages (from hypernetx) (5.1.1)\n",
            "Requirement already satisfied: contourpy>=1.0.1 in /usr/local/lib/python3.10/dist-packages (from matplotlib>3.0->hypernetx) (1.1.0)\n",
            "Requirement already satisfied: cycler>=0.10 in /usr/local/lib/python3.10/dist-packages (from matplotlib>3.0->hypernetx) (0.11.0)\n",
            "Requirement already satisfied: fonttools>=4.22.0 in /usr/local/lib/python3.10/dist-packages (from matplotlib>3.0->hypernetx) (4.40.0)\n",
            "Requirement already satisfied: kiwisolver>=1.0.1 in /usr/local/lib/python3.10/dist-packages (from matplotlib>3.0->hypernetx) (1.4.4)\n",
            "Requirement already satisfied: packaging>=20.0 in /usr/local/lib/python3.10/dist-packages (from matplotlib>3.0->hypernetx) (23.1)\n",
            "Requirement already satisfied: pillow>=6.2.0 in /usr/local/lib/python3.10/dist-packages (from matplotlib>3.0->hypernetx) (9.5.0)\n",
            "Requirement already satisfied: pyparsing>=2.3.1 in /usr/local/lib/python3.10/dist-packages (from matplotlib>3.0->hypernetx) (3.0.9)\n",
            "Requirement already satisfied: python-dateutil>=2.7 in /usr/local/lib/python3.10/dist-packages (from matplotlib>3.0->hypernetx) (2.8.2)\n",
            "Requirement already satisfied: pytz>=2020.1 in /usr/local/lib/python3.10/dist-packages (from pandas>=1.5.3->hypernetx) (2022.7.1)\n",
            "Requirement already satisfied: joblib>=1.1.1 in /usr/local/lib/python3.10/dist-packages (from scikit-learn>=0.20.0->hypernetx) (1.2.0)\n",
            "Requirement already satisfied: threadpoolctl>=2.0.0 in /usr/local/lib/python3.10/dist-packages (from scikit-learn>=0.20.0->hypernetx) (3.1.0)\n",
            "Requirement already satisfied: six>=1.5 in /usr/local/lib/python3.10/dist-packages (from python-dateutil>=2.7->matplotlib>3.0->hypernetx) (1.16.0)\n",
            "Looking in indexes: https://pypi.org/simple, https://us-python.pkg.dev/colab-wheels/public/simple/\n",
            "Looking in links: https://data.pyg.org/whl/torch-1.13.1+cu117.html\n",
            "Collecting torch-geometric\n",
            "  Using cached torch_geometric-2.3.1-py3-none-any.whl\n",
            "Collecting torch-scatter\n",
            "  Using cached https://data.pyg.org/whl/torch-1.13.0%2Bcu117/torch_scatter-2.1.1%2Bpt113cu117-cp310-cp310-linux_x86_64.whl (10.1 MB)\n",
            "Collecting torch-sparse\n",
            "  Using cached https://data.pyg.org/whl/torch-1.13.0%2Bcu117/torch_sparse-0.6.17%2Bpt113cu117-cp310-cp310-linux_x86_64.whl (4.7 MB)\n",
            "Collecting tqdm (from torch-geometric)\n",
            "  Using cached tqdm-4.65.0-py3-none-any.whl (77 kB)\n",
            "Collecting numpy (from torch-geometric)\n",
            "  Using cached numpy-1.24.3-cp310-cp310-manylinux_2_17_x86_64.manylinux2014_x86_64.whl (17.3 MB)\n",
            "Collecting scipy (from torch-geometric)\n",
            "  Using cached scipy-1.10.1-cp310-cp310-manylinux_2_17_x86_64.manylinux2014_x86_64.whl (34.4 MB)\n",
            "Collecting jinja2 (from torch-geometric)\n",
            "  Using cached Jinja2-3.1.2-py3-none-any.whl (133 kB)\n",
            "Collecting requests (from torch-geometric)\n",
            "  Using cached requests-2.31.0-py3-none-any.whl (62 kB)\n",
            "Collecting pyparsing (from torch-geometric)\n",
            "  Using cached pyparsing-3.0.9-py3-none-any.whl (98 kB)\n",
            "Collecting scikit-learn (from torch-geometric)\n",
            "  Using cached scikit_learn-1.2.2-cp310-cp310-manylinux_2_17_x86_64.manylinux2014_x86_64.whl (9.6 MB)\n",
            "Collecting psutil>=5.8.0 (from torch-geometric)\n",
            "  Using cached psutil-5.9.5-cp36-abi3-manylinux_2_12_x86_64.manylinux2010_x86_64.manylinux_2_17_x86_64.manylinux2014_x86_64.whl (282 kB)\n",
            "Collecting MarkupSafe>=2.0 (from jinja2->torch-geometric)\n",
            "  Using cached MarkupSafe-2.1.3-cp310-cp310-manylinux_2_17_x86_64.manylinux2014_x86_64.whl (25 kB)\n",
            "Collecting charset-normalizer<4,>=2 (from requests->torch-geometric)\n",
            "  Using cached charset_normalizer-3.1.0-cp310-cp310-manylinux_2_17_x86_64.manylinux2014_x86_64.whl (199 kB)\n",
            "Collecting idna<4,>=2.5 (from requests->torch-geometric)\n",
            "  Using cached idna-3.4-py3-none-any.whl (61 kB)\n",
            "Collecting urllib3<3,>=1.21.1 (from requests->torch-geometric)\n",
            "  Using cached urllib3-2.0.3-py3-none-any.whl (123 kB)\n",
            "Collecting certifi>=2017.4.17 (from requests->torch-geometric)\n",
            "  Using cached certifi-2023.5.7-py3-none-any.whl (156 kB)\n",
            "Collecting joblib>=1.1.1 (from scikit-learn->torch-geometric)\n",
            "  Using cached joblib-1.2.0-py3-none-any.whl (297 kB)\n",
            "Collecting threadpoolctl>=2.0.0 (from scikit-learn->torch-geometric)\n",
            "  Using cached threadpoolctl-3.1.0-py3-none-any.whl (14 kB)\n",
            "Installing collected packages: urllib3, tqdm, torch-scatter, threadpoolctl, pyparsing, psutil, numpy, MarkupSafe, joblib, idna, charset-normalizer, certifi, scipy, requests, jinja2, torch-sparse, scikit-learn, torch-geometric\n",
            "  Attempting uninstall: urllib3\n",
            "    Found existing installation: urllib3 2.0.3\n",
            "    Uninstalling urllib3-2.0.3:\n",
            "      Successfully uninstalled urllib3-2.0.3\n",
            "  Attempting uninstall: tqdm\n",
            "    Found existing installation: tqdm 4.65.0\n",
            "    Uninstalling tqdm-4.65.0:\n",
            "      Successfully uninstalled tqdm-4.65.0\n",
            "  Attempting uninstall: torch-scatter\n",
            "    Found existing installation: torch-scatter 2.1.1+pt113cu117\n",
            "    Uninstalling torch-scatter-2.1.1+pt113cu117:\n",
            "      Successfully uninstalled torch-scatter-2.1.1+pt113cu117\n",
            "  Attempting uninstall: threadpoolctl\n",
            "    Found existing installation: threadpoolctl 3.1.0\n",
            "    Uninstalling threadpoolctl-3.1.0:\n",
            "      Successfully uninstalled threadpoolctl-3.1.0\n",
            "  Attempting uninstall: pyparsing\n",
            "    Found existing installation: pyparsing 3.0.9\n",
            "    Uninstalling pyparsing-3.0.9:\n",
            "      Successfully uninstalled pyparsing-3.0.9\n",
            "  Attempting uninstall: psutil\n",
            "    Found existing installation: psutil 5.9.5\n",
            "    Uninstalling psutil-5.9.5:\n",
            "      Successfully uninstalled psutil-5.9.5\n",
            "  Attempting uninstall: numpy\n",
            "    Found existing installation: numpy 1.24.3\n",
            "    Uninstalling numpy-1.24.3:\n",
            "      Successfully uninstalled numpy-1.24.3\n",
            "  Attempting uninstall: MarkupSafe\n",
            "    Found existing installation: MarkupSafe 2.1.3\n",
            "    Uninstalling MarkupSafe-2.1.3:\n",
            "      Successfully uninstalled MarkupSafe-2.1.3\n",
            "  Attempting uninstall: joblib\n",
            "    Found existing installation: joblib 1.2.0\n",
            "    Uninstalling joblib-1.2.0:\n",
            "      Successfully uninstalled joblib-1.2.0\n",
            "  Attempting uninstall: idna\n",
            "    Found existing installation: idna 3.4\n",
            "    Uninstalling idna-3.4:\n",
            "      Successfully uninstalled idna-3.4\n",
            "  Attempting uninstall: charset-normalizer\n",
            "    Found existing installation: charset-normalizer 3.1.0\n",
            "    Uninstalling charset-normalizer-3.1.0:\n",
            "      Successfully uninstalled charset-normalizer-3.1.0\n",
            "  Attempting uninstall: certifi\n",
            "    Found existing installation: certifi 2023.5.7\n",
            "    Uninstalling certifi-2023.5.7:\n",
            "      Successfully uninstalled certifi-2023.5.7\n",
            "  Attempting uninstall: scipy\n",
            "    Found existing installation: scipy 1.10.1\n",
            "    Uninstalling scipy-1.10.1:\n",
            "      Successfully uninstalled scipy-1.10.1\n",
            "  Attempting uninstall: requests\n",
            "    Found existing installation: requests 2.31.0\n",
            "    Uninstalling requests-2.31.0:\n",
            "      Successfully uninstalled requests-2.31.0\n",
            "  Attempting uninstall: jinja2\n",
            "    Found existing installation: Jinja2 3.1.2\n",
            "    Uninstalling Jinja2-3.1.2:\n",
            "      Successfully uninstalled Jinja2-3.1.2\n",
            "  Attempting uninstall: torch-sparse\n",
            "    Found existing installation: torch-sparse 0.6.17+pt113cu117\n",
            "    Uninstalling torch-sparse-0.6.17+pt113cu117:\n",
            "      Successfully uninstalled torch-sparse-0.6.17+pt113cu117\n",
            "  Attempting uninstall: scikit-learn\n",
            "    Found existing installation: scikit-learn 1.2.2\n",
            "    Uninstalling scikit-learn-1.2.2:\n",
            "      Successfully uninstalled scikit-learn-1.2.2\n",
            "  Attempting uninstall: torch-geometric\n",
            "    Found existing installation: torch-geometric 2.3.1\n",
            "    Uninstalling torch-geometric-2.3.1:\n",
            "      Successfully uninstalled torch-geometric-2.3.1\n",
            "\u001b[31mERROR: pip's dependency resolver does not currently take into account all the packages that are installed. This behaviour is the source of the following dependency conflicts.\n",
            "google-colab 1.0.0 requires requests==2.27.1, but you have requests 2.31.0 which is incompatible.\n",
            "moviepy 1.0.3 requires decorator<5.0,>=4.0.2, but you have decorator 5.1.1 which is incompatible.\n",
            "numba 0.56.4 requires numpy<1.24,>=1.18, but you have numpy 1.24.3 which is incompatible.\n",
            "tensorflow 2.12.0 requires numpy<1.24,>=1.22, but you have numpy 1.24.3 which is incompatible.\n",
            "torchdata 0.6.1 requires torch==2.0.1, but you have torch 1.13.1 which is incompatible.\n",
            "torchtext 0.15.2 requires torch==2.0.1, but you have torch 1.13.1 which is incompatible.\n",
            "torchvision 0.15.2+cu118 requires torch==2.0.1, but you have torch 1.13.1 which is incompatible.\u001b[0m\u001b[31m\n",
            "\u001b[0mSuccessfully installed MarkupSafe-2.1.3 certifi-2023.5.7 charset-normalizer-3.1.0 idna-3.4 jinja2-3.1.2 joblib-1.2.0 numpy-1.24.3 psutil-5.9.5 pyparsing-3.0.9 requests-2.31.0 scikit-learn-1.2.2 scipy-1.10.1 threadpoolctl-3.1.0 torch-geometric-2.3.1 torch-scatter-2.1.1+pt113cu117 torch-sparse-0.6.17+pt113cu117 tqdm-4.65.0 urllib3-2.0.3\n"
          ]
        },
        {
          "output_type": "display_data",
          "data": {
            "application/vnd.colab-display-data+json": {
              "pip_warning": {
                "packages": [
                  "certifi",
                  "numpy",
                  "psutil",
                  "tqdm"
                ]
              }
            }
          },
          "metadata": {}
        }
      ],
      "source": [
        "#@title [RUN] install\n",
        "!pip install -U --force-reinstall numpy\n",
        "!pip install --force-reinstall dhg\n",
        "!pip install hypernetx\n",
        "\n",
        "import torch\n",
        "\n",
        "!pip install --force-reinstall torch-geometric torch-scatter torch-sparse -f https://data.pyg.org/whl/torch-{torch.__version__}.html\n",
        "\n"
      ]
    },
    {
      "cell_type": "code",
      "execution_count": null,
      "metadata": {
        "cellView": "form",
        "colab": {
          "base_uri": "https://localhost:8080/"
        },
        "id": "dA5QXrU_LWPj",
        "outputId": "1254db42-d47a-40b5-a2e1-877473a06c30"
      },
      "outputs": [
        {
          "output_type": "stream",
          "name": "stdout",
          "text": [
            " No module named 'celluloid'. If you need to use hypernetx.algorithms.contagion, please install additional packages by running the following command: pip install .['all']\n",
            " No module named 'igraph'. If you need to use hypernetx.algorithms.hypergraph_modularity, please install additional packages by running the following command: pip install .['all']\n"
          ]
        }
      ],
      "source": [
        "#@title [RUN] Import modules\n",
        "import torch\n",
        "import torch.nn as nn\n",
        "import torch.nn.functional as F\n",
        "import numpy as np\n",
        "import dhg\n",
        "import pdb\n",
        "import torch.optim as optim\n",
        "import matplotlib.pyplot as plt\n",
        "import networkx as nx\n",
        "import hypernetx as hnx\n",
        "import random\n",
        "import torch_geometric\n",
        "from torch_scatter import scatter_mean, scatter_max, scatter_sum\n",
        "from datetime import datetime"
      ]
    },
    {
      "cell_type": "code",
      "execution_count": null,
      "metadata": {
        "cellView": "form",
        "id": "GjrxJ6_B6wiJ"
      },
      "outputs": [],
      "source": [
        "#@title [RUN] Helper functions\n",
        "def draw_one_graph(ax, edges, label=None, node_emb=None, layout=None, special_color=False):\n",
        "    \"\"\"draw a graph with networkx based on adjacency matrix (edges)\n",
        "    graph labels could be displayed as a title for each graph\n",
        "    node_emb could be displayed in colors\n",
        "    \"\"\"\n",
        "    graph = nx.Graph()\n",
        "    edges = zip(edges[0], edges[1])\n",
        "    graph.add_edges_from(edges)\n",
        "    node_pos = layout(graph)\n",
        "    #add colors according to node embeding\n",
        "    if (node_emb is not None) or special_color:\n",
        "        color_map = []\n",
        "        node_list = [node[0] for node in graph.nodes(data = True)]\n",
        "        for i,node in enumerate(node_list):\n",
        "            #just ignore this branch\n",
        "            if special_color:\n",
        "                if len(node_list) == 3:\n",
        "                    crt_color = (1,0,0)\n",
        "                elif len(node_list) == 5:\n",
        "                    crt_color = (0,1,0)\n",
        "                elif len(node_list) == 4:\n",
        "                    crt_color = (1,1,0)\n",
        "                else:\n",
        "                  special_list = [(1,0,0)] * 3 + [(0,1,0)] * 5 + [(1,1,0)] * 4\n",
        "                  crt_color = special_list[i]\n",
        "            else:\n",
        "                crt_node_emb = node_emb[node]\n",
        "                #map float number (node embeding) to a color\n",
        "                crt_color = cm.gist_rainbow(crt_node_emb, bytes=True)\n",
        "                crt_color = (crt_color[0]/255.0, crt_color[1]/255.0, crt_color[2]/255.0, crt_color[3]/255.0)\n",
        "            color_map.append(crt_color)\n",
        "\n",
        "        nx.draw_networkx_nodes(graph,node_pos, node_color=color_map,\n",
        "                        nodelist = node_list, ax=ax)\n",
        "        nx.draw_networkx_edges(graph, node_pos, ax=ax)\n",
        "        nx.draw_networkx_labels(graph,node_pos, ax=ax)\n",
        "    else:\n",
        "        nx.draw_networkx(graph, node_pos, ax=ax)\n",
        "\n",
        "def gallery(graphs, labels=None, node_emb=None, special_color=False, max_graphs=4, max_fig_size=(40, 10), layout=nx.layout.kamada_kawai_layout):\n",
        "    ''' Draw multiple graphs as a gallery\n",
        "    Args:\n",
        "      graphs: torch_geometrics.dataset object/ List of Graph objects\n",
        "      labels: num_graphs\n",
        "      node_emb: num_graphs* [num_nodes x num_ch]\n",
        "      max_graphs: maximum graphs display\n",
        "    '''\n",
        "    num_graphs = min(len(graphs), max_graphs)\n",
        "    ff, axes = plt.subplots(1, num_graphs,\n",
        "                            figsize=max_fig_size,\n",
        "                            subplot_kw={'xticks': [], 'yticks': []})\n",
        "    if num_graphs == 1:\n",
        "        axes = [axes]\n",
        "    if node_emb is None:\n",
        "        node_emb = num_graphs*[None]\n",
        "    if labels is None:\n",
        "        labels = num_graphs * [\" \"]\n",
        "\n",
        "\n",
        "    for i in range(num_graphs):\n",
        "        draw_one_graph(axes[i], graphs[i].edge_index.numpy(), labels[i], node_emb[i], layout, special_color)\n",
        "        if labels[i] != \" \":\n",
        "            axes[i].set_title(f\"Target: {labels[i]}\", fontsize=28)\n",
        "        axes[i].set_axis_off()\n",
        "    plt.show()\n",
        "\n",
        "def update_stats(training_stats, epoch_stats):\n",
        "    \"\"\" Store metrics along the training\n",
        "    Args:\n",
        "      epoch_stats: dict containg metrics about one epoch\n",
        "      training_stats: dict containing lists of metrics along training\n",
        "    Returns:\n",
        "      updated training_stats\n",
        "    \"\"\"\n",
        "    if training_stats is None:\n",
        "        training_stats = {}\n",
        "        for key in epoch_stats.keys():\n",
        "            training_stats[key] = []\n",
        "    for key,val in epoch_stats.items():\n",
        "        training_stats[key].append(val)\n",
        "    return training_stats\n",
        "# epoch_stats = {'train_acc': ep_train_ac, 'val_acc', ep_val_acc, 'train_loss':}\n",
        "# training_stats = None\n",
        "\n",
        "def plot_stats(training_stats, figsize=(5, 5), name=\"\"):\n",
        "    \"\"\" Create one plot for each metric stored in training_stats\n",
        "    \"\"\"\n",
        "    stats_names = [key[6:] for key in training_stats.keys() if key.startswith('train_')]\n",
        "    f, ax = plt.subplots(len(stats_names), 1, figsize=figsize)\n",
        "    if len(stats_names)==1:\n",
        "        ax = np.array([ax])\n",
        "    for key, axx in zip(stats_names, ax.reshape(-1,)):\n",
        "        axx.plot(\n",
        "            training_stats['epoch'],\n",
        "            training_stats[f'train_{key}'],\n",
        "            label=f\"Training {key}\")\n",
        "        axx.plot(\n",
        "            training_stats['epoch'],\n",
        "            training_stats[f'val_{key}'],\n",
        "            label=f\"Validation {key}\")\n",
        "        axx.set_xlabel(\"Training epoch\")\n",
        "        axx.set_ylabel(key)\n",
        "        axx.legend()\n",
        "    plt.title(name)\n",
        "\n",
        "def get_list_of_edges(hypergraph):\n",
        "  incidence_matrix = hypergraph.incidence_matrix()\n",
        "  list_of_edges = []\n",
        "  for i in range(incidence_matrix.shape[-1]):\n",
        "    current_list = []\n",
        "    for j in range(incidence_matrix.shape[0]):\n",
        "      if incidence_matrix[j,i] != 0:\n",
        "        current_list.append(j)\n",
        "    list_of_edges.append(current_list)\n",
        "  return list_of_edges\n",
        "\n",
        "\n",
        "def visualise(hypergraph):\n",
        "  list_of_edges = get_list_of_edges(hypergraph)\n",
        "  list_of_nodes = list(range(hypergraph.num_nodes))\n",
        "  empty_dic = {}\n",
        "  i=0\n",
        "  for current_list in list_of_edges:\n",
        "    empty_dic[str(i)] = current_list\n",
        "    i+=1\n",
        "  for current_node in list_of_nodes:\n",
        "    empty_dic[str(i)] = [current_node]\n",
        "    i+=1\n",
        "  final_graph = hnx.Hypergraph(empty_dic)\n",
        "  hnx.draw(final_graph)\n",
        "  plt.title(f'Value = {hypergraph.y}')\n",
        "  plt.show()\n",
        "\n",
        "def hnxHyperGraph(hypergraph):\n",
        "  list_of_edges = get_list_of_edges(hypergraph)\n",
        "  list_of_nodes = list(range(hypergraph.num_nodes))\n",
        "  empty_dic = {}\n",
        "  i=0\n",
        "  for current_list in list_of_edges:\n",
        "    empty_dic[str(i)] = current_list\n",
        "    i+=1\n",
        "  for current_node in list_of_nodes:\n",
        "    empty_dic[str(i)] = [current_node]\n",
        "    i+=1\n",
        "  final_graph = hnx.Hypergraph(empty_dic)\n",
        "  return final_graph\n",
        "\n",
        "def incidence_to_edgeindex(incidence_matrix):\n",
        "  incidence_matrix = incidence_matrix.to_sparse()\n",
        "  values = incidence_matrix.values()\n",
        "  indices = incidence_matrix.indices()\n",
        "\n",
        "  edge_list = []\n",
        "  vertex_list = []\n",
        "  for t in range(int(values.shape[0])):\n",
        "    for j in range(int(values[t])):\n",
        "      edge_list.append(indices[1,t])\n",
        "      vertex_list.append(indices[0,t])\n",
        "  edge_index = torch.tensor([vertex_list, edge_list])\n",
        "  return edge_index\n",
        "\n",
        "\n",
        "##graph object\n",
        "\n",
        "class Graph(object):\n",
        "    def __init__(self, edge_index, x, y, weighted = None):\n",
        "        \"\"\" Graph structure\n",
        "            for a mini-batch it will store a big (sparse) graph\n",
        "            representing the entire batch\n",
        "        Args:\n",
        "            x: node features  [num_nodes x num_feats]\n",
        "            y: graph labels   [num_graphs]\n",
        "            edge_index: list of edges [2 x num_edges]\n",
        "        \"\"\"\n",
        "        self.edge_index = edge_index\n",
        "        self.x = x.to(torch.float32)\n",
        "        self.y = y\n",
        "        self.num_nodes = self.x.shape[0]\n",
        "        if weighted is None:\n",
        "          self.values = torch.ones(self.edge_index.shape[1])\n",
        "        else:\n",
        "          self.values = weighted\n",
        "\n",
        "    #ignore this for now, it will be useful for batching\n",
        "    def set_batch(self, batch):\n",
        "        \"\"\" list of ints that maps each node to the graph it belongs to\n",
        "            e.g. for batch = [0,0,0,1,1,1,1]: the first 3 nodes belong to graph_0 while\n",
        "            the last 4 belong to graph_1\n",
        "        \"\"\"\n",
        "        self.batch = batch\n",
        "\n",
        "    # this function returns a sparse tensor\n",
        "    def get_adjacency_matrix(self):\n",
        "        \"\"\" from the list of edges create\n",
        "        a num_nodes x num_nodes sparse adjacency matrix\n",
        "        \"\"\"\n",
        "        return torch.sparse.LongTensor(self.edge_index,\n",
        "                              # we work with a binary adj containing 1 if an edge exist\n",
        "                              self.values,\n",
        "                              torch.Size((self.num_nodes, self.num_nodes))\n",
        "                              ).to_dense()\n",
        "\n",
        "\n"
      ]
    },
    {
      "cell_type": "markdown",
      "metadata": {
        "id": "DVQmvJn0Ofdk"
      },
      "source": [
        "# <font color = orange> 🐤 **Part 1: The basics of learning on hypergraphs** </font>"
      ]
    },
    {
      "cell_type": "markdown",
      "metadata": {
        "id": "-8n9Y4wVP7SL"
      },
      "source": [
        "# 👶 **What is a hypergraph?**\n",
        "\n",
        "A **hypergraph** can be viewed as a generalisation of a graph. An edge of a graph is a pair ($2$-tuple) of vertices in that graph. A hyperedge is a unordered $k$-tuple of vertices.\n",
        "\n",
        "More formally, a **hypergraph** is an ordered pair $\\mathcal{H} = (\\mathcal{V}, \\mathcal{E})$ where $\\mathcal{V}$ is a set of vertices/nodes and $\\mathcal{E}$ is a set of unordered $k$-tuples of $\\mathcal{V}$ for $k\\in \\{1, 2, …, |\\mathcal{V} |\\}$, known as **hyperedges**.\n",
        "\n",
        "**Example**: Consider the following hypergraph which will become our running example.\n",
        "\n",
        "<center>\n",
        "<img src=\"https://drive.google.com/uc?export=view&id=1tN5pjLPZZICfWWrXieJk-oV4aXuSZB97\"  width=\"600\">\n",
        "</center>\n",
        "\n",
        "\n",
        "We have that $\\mathcal{V} = \\{v_1, v_2, v_3,v_4,v_5\\}$ and $\\mathcal{E} = \\{ (v_1, v_2), (v_1, v_3, v_4), (v_2, v_4, v_5)\\}$.\n",
        "\n",
        "\n",
        "\n",
        "We can easily represent a hypergraph using matrices. For a hypergraph with $n$ vertices and $m$ hyperedges, $H \\in \\mathbb{R}^{n \\times m}$ is known as the **incidence matrix**. It is defined as\n",
        "$$   h_{i,j} = \\left\\{\n",
        "\\begin{array}{ll}\n",
        "      1 & \\text{if }v_i\\text{ is in }e_j \\\\\n",
        "      0 & \\text{otherwise}\n",
        "\\end{array}\n",
        "\\right. $$\n",
        "\n",
        "Occasionally, one might wish to weight this incidence matrix, this can be done by replacing the value of 1 with a weight, more will be said about this later.\n",
        "\n",
        "So for our running example, the corresponding incidence matrix is $$ H =\\begin{pmatrix}\n",
        "1 & 1 & 0 \\\\\n",
        "1 & 0 & 1 \\\\\n",
        "0 & 1 & 0 \\\\\n",
        "0 & 1 & 1 \\\\\n",
        "0 & 0 & 1\n",
        "\\end{pmatrix}$$\n",
        "\n",
        "Unlike in graphs, where you only have a degree for nodes, in hypergraph we have a notion of a degree for an edge as well. The degree of a node in a hypergraph is the number of hyperedges that contain that node. The **node degree matrix** $D_v \\in \\mathbb{R}^{n\\times n}$ is defined as the matrix whose diagonal entry is the column sum of the incidence matrix. Similarly, the degree of a hyperedge is the number of vertices contained in that edge. The **hyperedge degree matrix** $D_e \\in \\mathbb{R}^{m \\times m}$, is the matrix whose diagonal entries are the row sums of the incidence matrix.\n",
        "\n",
        "\n",
        "For hypergraphs with node features, each node $v_i \\in \\mathcal{V}$ has an associated $d$-dimensional feature vector $\\mathbf{x_i} \\in \\mathbb{R}^{d}$. Then the **feature matrix** $\\mathbf{X} \\in \\mathbb{R}^{n \\times d}$ can be used to represent the feature vectors for every node in the graph. Can you think of how hyperedge feature matrix could be defined?"
      ]
    },
    {
      "cell_type": "markdown",
      "metadata": {
        "id": "QWLMlZMYaBsK"
      },
      "source": [
        "# 🎒 Learning on hypergraph structured-data\n",
        "\n",
        "Machine learning tasks on hypergraph structured data can be categorised based on the nuanced differences of the dataset and the task being studied. Most generally we are interested in the following tasks\n",
        "\n",
        "- **Node/vertex-level prediction:** a data observation is a node within a hypergraph, we are interested in doing node-level classification/regression. Ex. Cora dataset where we are interested in categorising papers that are nodes of a larger citation network\n",
        "- **Hyperdge-level prediction:** we are interested in predicting hyperedges between samples in the dataset/ properties of a hyperedge.\n",
        "- **Hypergraph-level prediction:** a data observation is a hypergraph, i.e. our dataset consists of several hypergraphs and we are interested in hypergraph-level  classification/regression, ie a single output for the entire hypergraph.\n",
        "\n",
        "In the first part of this lab we will start with a node prediction task while the second part tackles a hypergraph level prediction.\n",
        "\n",
        "<center>\n",
        "<img src=\"https://drive.google.com/uc?export=view&id=1EeqLBuaboXPxi6oceQTFgiZUdUoY37DR\"  width=\"800\">\n",
        "<center>\n"
      ]
    },
    {
      "cell_type": "markdown",
      "metadata": {
        "id": "27QLUsf5w_Gl"
      },
      "source": [
        "# 🤖 **Creating a hypergraph object**\n",
        "\n",
        "To store data about the hypergraph we are going to create the following `HyperGraph` class.\n",
        "\n",
        "\n",
        "The `HyperGraph` class stores the hypergraph according to its  'hyper edge index', which is a tensor of size `[2, k]` where $$ k = \\sum_{e \\in \\mathcal{E}}\\sum_{v \\in e} 1 .$$\n",
        "\n",
        "Where the $i$'th column, $ x = [v_r, e_j]$ represent that $v_r \\in e_j$.\n",
        "\n",
        "**Example** Going back to our running example. We would represent our hypergraph as\n",
        "\n",
        "$$\\begin{bmatrix}\n",
        "0 & 1 & 0 & 2 & 3 & 1 & 3 & 4 \\\\\n",
        "0 & 0 & 1 & 1 & 1 & 2 & 2 & 2\n",
        "\\end{bmatrix} $$\n",
        "\n",
        "The `HyperGraph` class has a method `incidence_matrix()` which will return the incidence matrix when it is required."
      ]
    },
    {
      "cell_type": "code",
      "execution_count": null,
      "metadata": {
        "id": "vfyoW5hcV85u"
      },
      "outputs": [],
      "source": [
        "class HyperGraph(object):\n",
        "  def __init__(self, hyper_edge_index, x, y):\n",
        "    \"\"\" HyperGraph structure\n",
        "            for a mini-batch it will store a big hypergraph\n",
        "            representing the entire batch\n",
        "        Args:\n",
        "            x: node features  [num_nodes x num_feats]\n",
        "            y: hypergraph labels   [num_hyper_graphs]\n",
        "            hyper_edge_index: list of hyperedges [2, k] where k is defined in\n",
        "            the above cell.\n",
        "        \"\"\"\n",
        "    self.hyper_edge_index = hyper_edge_index\n",
        "    self.x = x.to(torch.float32)\n",
        "    self.y = y\n",
        "    self.num_nodes = self.x.shape[0] ##number of nodes\n",
        "    self.num_hyper_edges = self.hyper_edge_index[1,:].max().item()+1 #number of hyper edges\n",
        "\n",
        "  #this will be useful later, but we can ignore it for now\n",
        "  def set_batch(self, batch):\n",
        "    self.batch = batch\n",
        "\n",
        "\n",
        "  #returns the incidence matrix H\n",
        "  def incidence_matrix(self):\n",
        "    return torch.sparse.LongTensor(self.hyper_edge_index,\n",
        "                              # we work with a binary incidence containing 1 if an edge exist\n",
        "                              torch.ones((self.hyper_edge_index.shape[1])),\n",
        "                              torch.Size((self.num_nodes, self.num_hyper_edges))\n",
        "                              ).to_dense()\n",
        "\n"
      ]
    },
    {
      "cell_type": "markdown",
      "metadata": {
        "id": "B_ayNwU0vDFf"
      },
      "source": [
        "As an aside, we are also able to draw hypergraphs in python. It took us sometime to find a good drawing package but we finally decided this one is quite nice, with the minor annoyance that you need to have every vertex in at least one hyperedge. Documentation can be found [here](https://pnnl.github.io/HyperNetX/index.html). Let us visualise a hypergraph now and look at it's incidence matrix."
      ]
    },
    {
      "cell_type": "code",
      "execution_count": null,
      "metadata": {
        "colab": {
          "base_uri": "https://localhost:8080/",
          "height": 963
        },
        "id": "5krdgQLf9Nv0",
        "outputId": "f6fdb93d-2979-4684-aabc-01b2426a207f"
      },
      "outputs": [
        {
          "output_type": "stream",
          "name": "stderr",
          "text": [
            "/usr/local/lib/python3.10/dist-packages/hypernetx/classes/entity.py:1387: RuntimeWarning: The values in the array are unorderable. Pass `sort=False` to suppress this warning.\n",
            "  properties = props.combine_first(self.properties)\n",
            "/usr/local/lib/python3.10/dist-packages/hypernetx/classes/entity.py:1390: RuntimeWarning: The values in the array are unorderable. Pass `sort=False` to suppress this warning.\n",
            "  properties[self._misc_props_col] = self.properties[\n",
            "/usr/local/lib/python3.10/dist-packages/hypernetx/classes/entity.py:1387: RuntimeWarning: The values in the array are unorderable. Pass `sort=False` to suppress this warning.\n",
            "  properties = props.combine_first(self.properties)\n",
            "/usr/local/lib/python3.10/dist-packages/hypernetx/classes/entity.py:1390: RuntimeWarning: The values in the array are unorderable. Pass `sort=False` to suppress this warning.\n",
            "  properties[self._misc_props_col] = self.properties[\n"
          ]
        },
        {
          "output_type": "display_data",
          "data": {
            "text/plain": [
              "<Figure size 800x800 with 1 Axes>"
            ],
            "image/png": "[encoded data removed]"
          },
          "metadata": {}
        },
        {
          "output_type": "stream",
          "name": "stdout",
          "text": [
            "The incidence matrix of this hypergraph is \n",
            " tensor([[0., 1., 2.],\n",
            "        [0., 1., 0.],\n",
            "        [0., 0., 0.],\n",
            "        [0., 0., 0.],\n",
            "        [0., 1., 0.],\n",
            "        [0., 1., 2.]])\n"
          ]
        }
      ],
      "source": [
        "num_vertices = 6\n",
        "num_edges = 3\n",
        "num_features = 16\n",
        "n=8\n",
        "x = torch.rand((6,3))\n",
        "y = 1\n",
        "incidence_matrix = torch.concat((torch.randint(0, num_vertices, (1,n)), torch.randint(0, num_edges, (1,n))), dim = 0)\n",
        "random_hypergraph = HyperGraph(incidence_matrix, x, y)\n",
        "\n",
        "visualise(random_hypergraph)\n",
        "print(f'The incidence matrix of this hypergraph is \\n {random_hypergraph.incidence_matrix()}')"
      ]
    },
    {
      "cell_type": "markdown",
      "metadata": {
        "id": "CwxEULih5KV2"
      },
      "source": [
        "Let us now look the corresponding `hyper_edge_index`. Is it as you would expect?"
      ]
    },
    {
      "cell_type": "code",
      "execution_count": null,
      "metadata": {
        "colab": {
          "base_uri": "https://localhost:8080/"
        },
        "id": "3dbkXEEU-but",
        "outputId": "50d598dc-501c-41a3-aab3-b7f73f1ed0dd"
      },
      "outputs": [
        {
          "output_type": "execute_result",
          "data": {
            "text/plain": [
              "tensor([[0, 0, 5, 5, 1, 5, 0, 4],\n",
              "        [2, 1, 2, 2, 1, 1, 2, 1]])"
            ]
          },
          "metadata": {},
          "execution_count": 6
        }
      ],
      "source": [
        "random_hypergraph.hyper_edge_index"
      ]
    },
    {
      "cell_type": "markdown",
      "metadata": {
        "id": "37ZWIdiacCpW"
      },
      "source": [
        "# 📖 **CoAuthorshipCora Dataset**\n",
        "\n",
        "For the first part of this lab, we will be working with the CoAuthorship cora dataset. CoauthroshipCora is a citation network used for node classification.\n",
        "\n",
        "Similarly for the Cora dataset for graphs, CoAuthorshipCora is a citation network of 2708 papers and our goal is to classify them into 7 categories. Each paper is characterised by a 1433 dimensional bag-of-words. All documents co-authored by a specific author form a hyperedge.\n",
        "\n",
        "We will be working with the CoAuthroshipCora (the name CoCora will be used interchangably) through a `CoCoraHyperDataset` which, currently, has methods to turn the data into a hypergraph."
      ]
    },
    {
      "cell_type": "code",
      "execution_count": null,
      "metadata": {
        "id": "h_fmluDSbiWC"
      },
      "outputs": [],
      "source": [
        "dataset = dhg.data.CoauthorshipCora(data_root='')\n",
        "\n",
        "class CoCoraHyperDataset(object):\n",
        "  def __init__(self, Dataset):\n",
        "    \"\"\"\n",
        "    Dataset is a dhg object storing CoCora data. We will convert it to a\n",
        "    hypergraph, graph, and weighted graph. Using clique and weighted clique\n",
        "    expansion respectively (more on this later).\n",
        "    \"\"\"\n",
        "    self.train_mask = Dataset['train_mask']\n",
        "    self.val_mask = Dataset['val_mask']\n",
        "    self.test_mask = Dataset['test_mask']\n",
        "    self.features = Dataset['features']\n",
        "    self.num_vertices = Dataset['features'].shape[0]\n",
        "    self.labels = Dataset['labels']\n",
        "    self.edge_list = Dataset['edge_list']\n",
        "\n",
        "    ## Creating the hypergraph from the data\n",
        "    self.edge_index = self.edge_list_2_index(self.edge_list)\n",
        "    self.hyper_graph = HyperGraph(self.edge_index, self.features, self.labels)\n",
        "\n",
        "\n",
        "    #creating a graph for the data\n",
        "    self.graph_edge_index = self.edge_list_2_graph_index(self.edge_list)\n",
        "    self.graph = Graph(self.graph_edge_index, self.features, self.labels)\n",
        "\n",
        "    #creating a graph using weighted clique expansion\n",
        "    self.wgraph_edge_index, self.wgraph_weights = self.edge_list_2_weighted_edge_index(self.edge_list, self.features.shape[0])\n",
        "    self.wgraph = Graph(self.wgraph_edge_index, self.features, self.labels, self.wgraph_weights)\n",
        "\n",
        "  def edge_list_2_index(self, edge_list):\n",
        "    \"\"\"\n",
        "    Args\n",
        "      edge_list : a list of lists each representing nodes forming hyperedge\n",
        "    returns :\n",
        "      hyper_edge_index : tensor containing indices of incidence matrix [2, k]\n",
        "      where k is number of non-zero values in incidence matrix\n",
        "    \"\"\"\n",
        "    index = 0\n",
        "    hyper_vertices_list = []\n",
        "    hyper_edges_list = []\n",
        "    for i in edge_list:\n",
        "      for j in range(len(i)):\n",
        "        hyper_edges_list+=[index]\n",
        "      hyper_vertices_list+=i\n",
        "      index+=1\n",
        "    hyper_edge_index = torch.tensor([hyper_vertices_list, hyper_edges_list])\n",
        "    return hyper_edge_index\n",
        "\n",
        "  def edge_list_2_graph_index(self, edge_list):\n",
        "    \"\"\"\n",
        "    function that creates adjacency matrix associated to clique expansion of\n",
        "    hypergraph\n",
        "    Args\n",
        "      edge_list : a list of lists each representing nodes forming hyperedge\n",
        "    returns :\n",
        "      edge_index: tensor containing indices of adjacency matrix [2, k] where k\n",
        "      is number of non-zero values in adjacency matrix\n",
        "    \"\"\"\n",
        "    source_list = []\n",
        "    dest_list = []\n",
        "    for current_edges in edge_list:\n",
        "      # for every hyperedge draw an edge between every distinct pair of nodes\n",
        "      n = len(current_edges)\n",
        "      for i in range(n):\n",
        "        for j in range(n):\n",
        "          if i==j:\n",
        "            continue\n",
        "          source_list.append(current_edges[i])\n",
        "          dest_list.append(current_edges[j])\n",
        "    edge_index = torch.tensor([source_list, dest_list])\n",
        "    return edge_index\n",
        "\n",
        "  def edge_list_2_weighted_edge_index(self, edge_list, num_vertices):\n",
        "    \"\"\"\n",
        "    function that creates adjacency matrix associated to weighted clique\n",
        "    expansion of hypergraph\n",
        "    Args:\n",
        "      edge_list : a list of lists each representing nodes forming hyperedge\n",
        "    returns :\n",
        "      index: tensor containing indices of adjacency matrix [2, k] where k is\n",
        "      number of non-zero values in adjacency matrix\n",
        "      vals: weight associated to each edge\n",
        "    \"\"\"\n",
        "    adjacency_matrix = torch.zeros((num_vertices, num_vertices))\n",
        "    for current_edges in edge_list:\n",
        "      # for every hyperedge draw an edge between every pair of nodes\n",
        "      # for each pair of nodes the weight corresponds to number hyperedges they\n",
        "      # have in common\n",
        "      for i in current_edges:\n",
        "        for j in current_edges:\n",
        "          # this can be done with HH^T and subtracting degree matrix\n",
        "          adjacency_matrix[i,j] += 1\n",
        "    adjacency_matrix = adjacency_matrix.to_sparse()\n",
        "    index = adjacency_matrix.indices()\n",
        "    vals = adjacency_matrix.values()\n",
        "\n",
        "    return index,vals\n",
        "\n",
        "\n",
        "Data = CoCoraHyperDataset(dataset)"
      ]
    },
    {
      "cell_type": "markdown",
      "metadata": {
        "id": "fJfjrJgE2vH8"
      },
      "source": [
        "# 🚀 **Our first HGNN**\n",
        "\n",
        "\n",
        "\n",
        "We construct a layer of our [hypergraph neural network](https://arxiv.org/abs/1809.09401) by first creating a representation for each hyperedge. This is typically done by summing or averaging the node representations for all nodes contained in the hyperedge. Then, for each node we typically sum or average the representations of all hyperedges that contain this node, before combinging that with our original node representation.\n",
        "\n",
        "Mathematically, this can be written as $$HH^TXW,$$ where $W$ is our learnable linear projection.\n",
        "\n",
        "❓**Can you convince yourself of this?**\n",
        "\n",
        "\n",
        "In practice we normalise the projections to avoid exploding numerics so a  layer of HGNN is $$ D_v^{-\\frac{1}{2}} H D_e^{-1} H^T D_v^{-\\frac{1}{2}}XW.$$\n",
        "\n",
        "Once again $D_v$ is the node degree matrix and $D_e$ is the hyperedge degree matrix.\n",
        "\n",
        "<center>\n",
        "<img src=\"https://drive.google.com/uc?export=view&id=1-tvxWm5USdCxxvlCVqskM3qGKcV492dW\"  width=\"800\">\n",
        "<center>\n",
        "\n"
      ]
    },
    {
      "cell_type": "code",
      "execution_count": null,
      "metadata": {
        "id": "SprBcItvYD8D"
      },
      "outputs": [],
      "source": [
        "class HyperNNLayer(nn.Module):\n",
        "  def __init__(self, input_dim, output_dim):\n",
        "    \"\"\"\n",
        "    One layer of hypergraph neural network\n",
        "\n",
        "    Args:\n",
        "      input_dim : number of features of each node in hyergraph\n",
        "      output_dim : number of output features\n",
        "    \"\"\"\n",
        "    super(HyperNNLayer, self).__init__()\n",
        "    self.input_dim = input_dim\n",
        "    self.output_dim = output_dim\n",
        "    self.Linear = nn.Linear(input_dim,output_dim)\n",
        "\n",
        "  def forward(self, x,H):\n",
        "    \"\"\"\n",
        "    Args:\n",
        "      x : feature matrix [num_nodes, input_dim]\n",
        "      H : incidence matrix [num_nodes, num_hyper_edges]\n",
        "    returns:\n",
        "      x : output of one layer of hypergraph neural network [num_nodes, output_dim]\n",
        "    \"\"\"\n",
        "    # compute degree of nodes (D_v)^-0.5\n",
        "    degree_of_nodes = torch.nan_to_num(torch.pow(torch.diag(torch.sum(H, dim=-1)), -0.5), nan=0, posinf=0, neginf=0).to(torch.float32)\n",
        "    # compute degree of hyper edges (D_e)^-1\n",
        "    degree_of_edges = torch.nan_to_num(torch.pow(torch.diag(torch.sum(H, dim=0)), -1.0), nan=0, posinf=0, neginf=0).to(torch.float32)\n",
        "\n",
        "\n",
        "    # compute D_v^-0.5 H D_e^-1 H^T D_v^-0.5 x\n",
        "    x = degree_of_nodes @ x\n",
        "    x = torch.transpose(H, 0, 1) @ x\n",
        "    x = degree_of_edges @ x\n",
        "    x = H @ x\n",
        "    x = degree_of_nodes @ x\n",
        "\n",
        "    #apply linear layer\n",
        "    x = self.Linear(x)\n",
        "    return x\n",
        "\n",
        "class HyperNN(nn.Module):\n",
        "  def __init__(self, input_dim, output_dim, hidden_dim, num_layers):\n",
        "    \"\"\"\n",
        "    Hypergraph neural network containing num_layers HyperNNLayer\n",
        "\n",
        "    Args:\n",
        "      input_dim : number of features of each node in hyergraph\n",
        "      output_dim : number of output features\n",
        "      hidden_dim : hidden dimension\n",
        "      num_layers : number of layers\n",
        "    \"\"\"\n",
        "    super(HyperNN, self).__init__()\n",
        "    self.input_dim = input_dim\n",
        "    self.output_dim = output_dim\n",
        "    self.hidden_dim=hidden_dim\n",
        "\n",
        "    if num_layers > 1:\n",
        "      self.hnn_layers = [HyperNNLayer(input_dim, hidden_dim)]\n",
        "      self.hnn_layers+= [HyperNNLayer(hidden_dim, hidden_dim) for i in range(num_layers-2)]\n",
        "      self.hnn_layers+= [HyperNNLayer(hidden_dim, output_dim)]\n",
        "    else:\n",
        "      self.hnn_layers = [HyperNNLayer(input_dim, output_dim)]\n",
        "\n",
        "    self.hnn_layers = nn.ModuleList(self.hnn_layers)\n",
        "    self.num_layers = num_layers\n",
        "\n",
        "  def forward(self,hgraph):\n",
        "    \"\"\"\n",
        "    Args:\n",
        "      hgraph : input hypergraph stored as HyperGraph class\n",
        "    returns:\n",
        "      y_hat : logits for each node [num_nodes, output_dim]\n",
        "    \"\"\"\n",
        "    H = hgraph.incidence_matrix()\n",
        "\n",
        "    x = hgraph.x.to(torch.float32)\n",
        "    for j in range(self.num_layers-1):\n",
        "      x = self.hnn_layers[j](x,H)\n",
        "      x=F.relu(x)\n",
        "    x = self.hnn_layers[self.num_layers-1](x, H)\n",
        "    y_hat = x\n",
        "    return y_hat"
      ]
    },
    {
      "cell_type": "code",
      "execution_count": null,
      "metadata": {
        "cellView": "form",
        "colab": {
          "base_uri": "https://localhost:8080/"
        },
        "id": "3jfYpPFjzZYl",
        "outputId": "17f5a8d5-4c29-4401-a8b3-9109584b6d32"
      },
      "outputs": [
        {
          "output_type": "stream",
          "name": "stdout",
          "text": [
            "All good!\n"
          ]
        },
        {
          "output_type": "execute_result",
          "data": {
            "text/plain": [
              "<torch._C.Generator at 0x7f243da54110>"
            ]
          },
          "metadata": {},
          "execution_count": 9
        }
      ],
      "source": [
        "# @title ✅ [RUN] **Please run this unit test to validate your code. You might still have bugs but this is a good sanity check.**\n",
        "def testing_hnn():\n",
        "  torch.random.manual_seed(0)\n",
        "  np.random.seed(0)\n",
        "\n",
        "  input_dim = 64\n",
        "  output_dim = 128\n",
        "  #A = torch.tensor([[0, 1, 1, 0], [1, 0, 0, 0], [1, 1, 0, 1], [1, 1, 1, 0]])\n",
        "  H = random_hypergraph.incidence_matrix()\n",
        "  model = HyperNNLayer(input_dim, output_dim)\n",
        "\n",
        "  x = torch.rand(H.shape[0], input_dim)\n",
        "  out = model(x, H)\n",
        "\n",
        "  assert(out.shape == (H.shape[0], output_dim)), \"Oups! 🤭 Output shape is wrong\"\n",
        "\n",
        "  np.random.seed(0)\n",
        "  perm_x = torch.tensor(np.random.permutation(x.numpy()))\n",
        "  np.random.seed(0)\n",
        "  perm_out = torch.tensor(np.random.permutation(out.detach().numpy()))\n",
        "\n",
        "  np.random.seed(0)\n",
        "  A_perm = np.random.permutation(H.detach().numpy().transpose()).transpose()\n",
        "  np.random.seed(0)\n",
        "  A_perm = torch.tensor(np.random.permutation(A_perm))\n",
        "\n",
        "  torch.random.manual_seed(0)\n",
        "  model_perm = HyperNNLayer(input_dim, output_dim)\n",
        "\n",
        "  out_model_perm = model_perm(perm_x, A_perm)\n",
        "\n",
        "  assert (torch.allclose(perm_out, out_model_perm, atol=1e-6)), \"🤔 Something is wrong in the model! You are not permuation equivariant anymore 🥺\"\n",
        "  print(\"All good!\")\n",
        "\n",
        "testing_hnn()\n",
        "np.random.seed(None)\n",
        "torch.random.manual_seed(datetime.now().timestamp())"
      ]
    },
    {
      "cell_type": "markdown",
      "metadata": {
        "id": "rNS6ZwSIzzm3"
      },
      "source": [
        "Now that you have written your hypergraph neural network, it is time to train it."
      ]
    },
    {
      "cell_type": "code",
      "execution_count": null,
      "metadata": {
        "id": "sea01kWnuum9"
      },
      "outputs": [],
      "source": [
        "NUM_EPOCHS = 50 #@param {type:\"integer\"}\n",
        "LR = 0.001 #@param {type:\"number\"}\n",
        "num_runs = 3\n",
        "\n",
        "\n"
      ]
    },
    {
      "cell_type": "code",
      "execution_count": null,
      "metadata": {
        "id": "9zBTcR6jYGcT"
      },
      "outputs": [],
      "source": [
        "def quick_accuracy(y_hat, y):\n",
        "  \"\"\"\n",
        "  Args :\n",
        "    y_hat : logits predicted by model [n, num_classes]\n",
        "    y : ground trutch labels [n]\n",
        "  returns :\n",
        "    average accuracy\n",
        "  \"\"\"\n",
        "  n = y.shape[0]\n",
        "  y_hat = torch.argmax(y_hat, dim=-1)\n",
        "  accuracy = (y_hat==y).sum().data.item()\n",
        "  return accuracy/n\n",
        "\n"
      ]
    },
    {
      "cell_type": "code",
      "execution_count": null,
      "metadata": {
        "id": "pOMspsxhpQlb"
      },
      "outputs": [],
      "source": [
        "def trainCoCora(hypergraph, model, mask, optimiser):\n",
        "  model.train()\n",
        "  y = hypergraph.y[mask]\n",
        "  optimiser.zero_grad()\n",
        "  y_hat = model(hypergraph)[mask] #only make predicitions for the ones we know the labels of\n",
        "  loss = F.cross_entropy(y_hat, y)\n",
        "  loss.backward()\n",
        "  optimiser.step()\n",
        "  return loss.data\n",
        "\n",
        "def evalCoCora(hypergraph, model, mask):\n",
        "  model.eval()\n",
        "  y = hypergraph.y[mask]\n",
        "  y_hat = model(hypergraph)[mask]\n",
        "  accuracy = quick_accuracy(y_hat, y)\n",
        "  return accuracy\n",
        "\n",
        "def train_eval_loop_CoCora(model, hypergraph, train_mask,\n",
        "                           valid_mask, test_mask):\n",
        "    optimiser = optim.Adam(model.parameters(), lr=LR)\n",
        "    training_stats = None\n",
        "    # Training loop\n",
        "    for epoch in range(NUM_EPOCHS):\n",
        "        train_loss = trainCoCora(hypergraph,model, train_mask, optimiser)\n",
        "        train_acc = evalCoCora(hypergraph, model,train_mask)\n",
        "        valid_acc = evalCoCora(hypergraph, model, valid_mask)\n",
        "        if epoch % 10 == 0:\n",
        "            print(f\"Epoch {epoch} with train loss: {train_loss:.3f} train accuracy: {train_acc:.3f} validation accuracy: {valid_acc:.3f}\")\n",
        "        # store the loss and the accuracy for the final plot\n",
        "        epoch_stats = {'train_acc': train_acc, 'val_acc': valid_acc, 'epoch':epoch}\n",
        "        training_stats = update_stats(training_stats, epoch_stats)\n",
        "    # Lets look at our final test performance\n",
        "    test_acc = evalCoCora(hypergraph, model, test_mask)\n",
        "    print(f\"Our final test accuracy for the SimpleGNN is: {test_acc:.3f}\")\n",
        "    return training_stats\n"
      ]
    },
    {
      "cell_type": "markdown",
      "metadata": {
        "id": "Z6MqjGHV1DaV"
      },
      "source": [
        "🍵 **Tea break**: This will take a while to train, grab a cup of tea."
      ]
    },
    {
      "cell_type": "code",
      "execution_count": null,
      "metadata": {
        "colab": {
          "base_uri": "https://localhost:8080/",
          "height": 572
        },
        "id": "EUasHKNA4dAx",
        "outputId": "5302be22-a93b-48fb-ab63-89d90ef4ddee"
      },
      "outputs": [
        {
          "output_type": "stream",
          "name": "stdout",
          "text": [
            "Epoch 0 with train loss: 1.947 train accuracy: 0.143 validation accuracy: 0.129\n",
            "Epoch 10 with train loss: 1.937 train accuracy: 0.143 validation accuracy: 0.129\n",
            "Epoch 20 with train loss: 1.923 train accuracy: 0.514 validation accuracy: 0.389\n",
            "Epoch 30 with train loss: 1.903 train accuracy: 0.650 validation accuracy: 0.518\n",
            "Epoch 40 with train loss: 1.878 train accuracy: 0.629 validation accuracy: 0.534\n",
            "Our final test accuracy for the SimpleGNN is: 0.552\n"
          ]
        },
        {
          "output_type": "display_data",
          "data": {
            "text/plain": [
              "<Figure size 500x500 with 1 Axes>"
            ],
            "image/png": "[encoded data removed]"
          },
          "metadata": {}
        }
      ],
      "source": [
        "HyperNNModel = HyperNN(1433, 7, 128, 2)\n",
        "# Data.hyper_graph stores our hypergraph structure\n",
        "hyperNNModelOut = train_eval_loop_CoCora(HyperNNModel, Data.hyper_graph,\n",
        "                                         Data.train_mask, Data.val_mask,\n",
        "                                         Data.test_mask)\n",
        "plot_stats(hyperNNModelOut)"
      ]
    },
    {
      "cell_type": "markdown",
      "metadata": {
        "id": "o2LbqKjwEnY9"
      },
      "source": [
        "# ↩ **Part 2**: From  hypergraphs back to graphs\n",
        "\n",
        "We want to compare our new hypergraph model to the standard graph processing. But now comes the problem of converting a hypergraph to a graph.\n",
        "\n",
        "We will present two ways of doing it here, known as **clique expansion** and **weighted clique expansion**.\n",
        "\n",
        "In clique expansion, we turn each hyperedge into a fully connected graph.\n",
        "\n",
        "In weighted clique expansion, we turn each hyperedge into a fully connected graph. However, different from clique expansion, the weight on the edge between vertex i and vertex j, is the number of hyperedges they have in common. This reduces the loss of information. Consider the adjacency matrix for the graph created by weighted clique expansion $A$. Then notice that $$ A = HH^T - D_v.$$ Therefore, HGNN is equivalent to [GCN](https://arxiv.org/abs/1609.02907) if we transform the hypergraph to a graph using weighted clique expansion, provided we add weighted self-loops.\n",
        "\n",
        "❓Convince yourself that the above statement is indeed true.\n",
        "<center>\n",
        "<img src=\"https://drive.google.com/uc?export=view&id=16xYXYbWWX9g-YEtPxjTKPpWah_SjPauo\"  width=\"800\">\n",
        "<center>\n",
        "\n"
      ]
    },
    {
      "cell_type": "markdown",
      "metadata": {
        "id": "gxt-OjGK2I2B"
      },
      "source": [
        "To store information about each graph, we create the following ` Graph` class. Note that, instead of storing an entire adjacency matrix to describe the graph structure, we will store it more efficiently as a list of edges of shape `[2, num_edges]`, were for each edge we store the indices of the source and destination node."
      ]
    },
    {
      "cell_type": "code",
      "execution_count": null,
      "metadata": {
        "id": "ohJNBXkmkU0F"
      },
      "outputs": [],
      "source": [
        "##graph object\n",
        "\n",
        "class Graph(object):\n",
        "    def __init__(self, edge_index, x, y, weighted = None):\n",
        "        \"\"\" Graph structure\n",
        "            for a mini-batch it will store a big (sparse) graph\n",
        "            representing the entire batch\n",
        "        Args:\n",
        "            x: node features  [num_nodes x num_feats]\n",
        "            y: graph labels   [num_graphs]\n",
        "            edge_index: list of edges [2 x num_edges]\n",
        "        \"\"\"\n",
        "        self.edge_index = edge_index\n",
        "        self.x = x.to(torch.float32)\n",
        "        self.y = y\n",
        "        self.num_nodes = self.x.shape[0]\n",
        "        if weighted is None:\n",
        "          self.values = torch.ones(self.edge_index.shape[1])\n",
        "        else:\n",
        "          self.values = weighted\n",
        "\n",
        "    #ignore this for now, it will be useful for batching\n",
        "    def set_batch(self, batch):\n",
        "        \"\"\" list of ints that maps each node to the graph it belongs to\n",
        "            e.g. for batch = [0,0,0,1,1,1,1]: the first 3 nodes belong to graph_0 while\n",
        "            the last 4 belong to graph_1\n",
        "        \"\"\"\n",
        "        self.batch = batch\n",
        "\n",
        "    # this function returns a sparse tensor\n",
        "    def get_adjacency_matrix(self):\n",
        "        \"\"\" from the list of edges create\n",
        "        a num_nodes x num_nodes sparse adjacency matrix\n",
        "        \"\"\"\n",
        "        return torch.sparse.LongTensor(self.edge_index,\n",
        "                              # we work with a binary adj containing 1 if an edge exist\n",
        "                              self.values,\n",
        "                              torch.Size((self.num_nodes, self.num_nodes))\n",
        "                              ).to_dense()"
      ]
    },
    {
      "cell_type": "code",
      "execution_count": null,
      "metadata": {
        "id": "oiTUsWRlmo_l"
      },
      "outputs": [],
      "source": [
        "class GCNLayer(nn.Module):\n",
        "  def __init__(self,input_dim, output_dim):\n",
        "    super(GCNLayer, self).__init__()\n",
        "    self.input_dim =input_dim\n",
        "    self.output_dim = output_dim\n",
        "    \"\"\"GCN layer to be implemented by students of practical\n",
        "\n",
        "    Args:\n",
        "        input_dim (int): Dimensionality of the input feature vectors\n",
        "        output_dim (int): Dimensionality of the output softmax distribution\n",
        "        A (torch.Tensor): 2-D adjacency matrix\n",
        "    \"\"\"\n",
        "\n",
        "\n",
        "    self.linear = nn.Linear(input_dim, output_dim)\n",
        "        # =========================================\n",
        "\n",
        "  def forward(self, x, A):\n",
        "\n",
        "      D = torch.nan_to_num(torch.pow(torch.diag(torch.sum(A, dim=0)), -0.5), nan=0, posinf=0, neginf=0)\n",
        "      self.adj_norm = D@A@D\n",
        "      x = self.adj_norm@x\n",
        "      x=self.linear(x)\n",
        "      return x\n",
        "\n",
        "class GNN(nn.Module):\n",
        "  def __init__(self, input_dim, hidden_dim, output_dim, num_layers):\n",
        "    \"\"\"\n",
        "    Graph convolutional network containing num_layers GCNLayer\n",
        "\n",
        "    Args:\n",
        "      input_dim : number of features of each node in graph\n",
        "      output_dim : number of output features\n",
        "      hidden_dim : hidden dimension\n",
        "      num_layers : number of layers\n",
        "    \"\"\"\n",
        "    super(GNN, self).__init__()\n",
        "    self.input_dim = input_dim\n",
        "    self.output_dim = output_dim\n",
        "    if num_layers > 1:\n",
        "      self.gcn_layers = [GCNLayer(input_dim, hidden_dim)]\n",
        "      self.gcn_layers += [GCNLayer(hidden_dim, hidden_dim) for i in range(num_layers-2)]\n",
        "      self.gcn_layers += [GCNLayer(hidden_dim, output_dim)]\n",
        "    else:\n",
        "      self.gcn_layers = [GCNLayer(input_dim, output_dim)]\n",
        "\n",
        "    self.gcn_layers = nn.ModuleList(self.gcn_layers)\n",
        "    self.num_gcn_layers = num_layers\n",
        "\n",
        "  def forward(self, graph):\n",
        "    \"\"\"\n",
        "    Args:\n",
        "      graph : input graph stored as Graph class\n",
        "    returns:\n",
        "      y_hat : logits for each node [num_nodes, output_dim]\n",
        "    \"\"\"\n",
        "    x = graph.x.to(torch.float32)\n",
        "    A = graph.get_adjacency_matrix()\n",
        "    for j in range(self.num_gcn_layers-1):\n",
        "      x = self.gcn_layers[j](x, A)\n",
        "      x = F.relu(x)\n",
        "    x = self.gcn_layers[-1](x,A)\n",
        "    y_hat = x\n",
        "    return y_hat"
      ]
    },
    {
      "cell_type": "markdown",
      "metadata": {
        "id": "6urVwmal1asz"
      },
      "source": [
        "🍵 **Tea break**: This will take a while to train, grab a cup of tea."
      ]
    },
    {
      "cell_type": "code",
      "execution_count": null,
      "metadata": {
        "colab": {
          "base_uri": "https://localhost:8080/",
          "height": 572
        },
        "id": "kfeZGLCHvaEd",
        "outputId": "a4ec4935-d600-436f-812d-73481f35cefa"
      },
      "outputs": [
        {
          "output_type": "stream",
          "name": "stdout",
          "text": [
            "Epoch 0 with train loss: 1.947 train accuracy: 0.143 validation accuracy: 0.108\n",
            "Epoch 10 with train loss: 1.936 train accuracy: 0.143 validation accuracy: 0.108\n",
            "Epoch 20 with train loss: 1.922 train accuracy: 0.229 validation accuracy: 0.118\n",
            "Epoch 30 with train loss: 1.902 train accuracy: 0.500 validation accuracy: 0.348\n",
            "Epoch 40 with train loss: 1.874 train accuracy: 0.593 validation accuracy: 0.473\n",
            "Our final test accuracy for the SimpleGNN is: 0.530\n"
          ]
        },
        {
          "output_type": "display_data",
          "data": {
            "text/plain": [
              "<Figure size 500x500 with 1 Axes>"
            ],
            "image/png": "[encoded data removed]"
          },
          "metadata": {}
        }
      ],
      "source": [
        "\n",
        "graph_model = GNN(1433, 128, 7, 2)\n",
        "\n",
        "# Data.graph stores clique expansion associated to hypergraph\n",
        "graph_model_out = train_eval_loop_CoCora(graph_model, Data.graph, Data.train_mask, Data.val_mask, Data.test_mask)\n",
        "plot_stats(graph_model_out)"
      ]
    },
    {
      "cell_type": "markdown",
      "metadata": {
        "id": "--qqQe851cBd"
      },
      "source": [
        "🍵 **Tea break**: This will take a while to train, grab a cup of tea."
      ]
    },
    {
      "cell_type": "code",
      "execution_count": null,
      "metadata": {
        "colab": {
          "base_uri": "https://localhost:8080/",
          "height": 572
        },
        "id": "jiVKeKGHYQRg",
        "outputId": "043b1c10-dca7-4b55-85ef-83b965f0acde"
      },
      "outputs": [
        {
          "output_type": "stream",
          "name": "stdout",
          "text": [
            "Epoch 0 with train loss: 1.948 train accuracy: 0.143 validation accuracy: 0.129\n",
            "Epoch 10 with train loss: 1.937 train accuracy: 0.221 validation accuracy: 0.139\n",
            "Epoch 20 with train loss: 1.924 train accuracy: 0.450 validation accuracy: 0.232\n",
            "Epoch 30 with train loss: 1.906 train accuracy: 0.600 validation accuracy: 0.427\n",
            "Epoch 40 with train loss: 1.882 train accuracy: 0.636 validation accuracy: 0.488\n",
            "Our final test accuracy for the SimpleGNN is: 0.535\n"
          ]
        },
        {
          "output_type": "display_data",
          "data": {
            "text/plain": [
              "<Figure size 500x500 with 1 Axes>"
            ],
            "image/png": "[encoded data removed]"
          },
          "metadata": {}
        }
      ],
      "source": [
        "w_graph_model = GNN(1433, 128, 7, 2)\n",
        "# Data.wgraph stores weighted clique expansion associated to hypergraph\n",
        "graph_model_out = train_eval_loop_CoCora(w_graph_model, Data.wgraph, Data.train_mask, Data.val_mask, Data.test_mask)\n",
        "plot_stats(graph_model_out)"
      ]
    },
    {
      "cell_type": "markdown",
      "metadata": {
        "id": "0HjXsf621dww"
      },
      "source": [
        "❓**Task**: Can you think of any other ways to convert a hypergraph to a graph?"
      ]
    },
    {
      "cell_type": "markdown",
      "metadata": {
        "id": "DEQqjFOGkLJL"
      },
      "source": [
        "# 🧬 **Part 3**: Hypergraph level prediction and batching\n",
        "\n",
        "**Our Dataset**\n",
        "\n",
        "In this part, we are going to show that hypergraph models can also be a powerful tool for hypergraph level prediction.\n",
        "\n",
        "Unfortunately, as we are writing this, we are not aware of a benchmarking dataset for hypergraph level prediction. To ameliorate this, we are going to design and building our own dataset.\n",
        "\n",
        "The dataset `hypergraph_dataset` is a collection of 1000 hypergraphs. Each node of the hypergraph is characterised by 6 features, which have been generated randomly. It is our models task to predict if the hypergraph is connected or not. We say that a hypergraph $\\mathcal{H} = (\\mathcal{V}, \\mathcal{E})$ is **connected** if for any distinct $v_0, v_n \\in \\mathcal{V}$, there is a sequence $\\{v_0, v_1,\\dots, v_{n-1}, v_n\\}$ such that $v_{i}$ and $v_{i+1}$ belong to the same hyperedge.\n",
        "\n",
        "\n",
        "Each hypergraph has between 5 and 11 nodes and between 1 and 10 edges. To determine is the hypergraph is connected or not, we are using the `is_connected()` function from the `hypernetx` package, an extremely useful package for all things hypergraphs. Documentation can be found [here](https://pnnl.github.io/HyperNetX/index.html).\n",
        "\n",
        "\n"
      ]
    },
    {
      "cell_type": "code",
      "execution_count": null,
      "metadata": {
        "colab": {
          "base_uri": "https://localhost:8080/"
        },
        "id": "LELL7Lt8IUsx",
        "outputId": "c3b19527-e077-4d7b-bb1d-e8e7b3183fd9"
      },
      "outputs": [
        {
          "output_type": "stream",
          "name": "stdout",
          "text": [
            "Number of connected hypergraphs in our dataset = 437 out of 1000 hypergraphs\n"
          ]
        }
      ],
      "source": [
        "#@title [RUN] Generate dataset\n",
        "torch.random.manual_seed(0)\n",
        "\n",
        "Hypergraph_Dataset = []\n",
        "number_connected = 0\n",
        "number_not_connected = 0\n",
        "number_of_hgraphs = 1000\n",
        "for j in range(number_of_hgraphs):\n",
        "  num_vertices = torch.randint(5, 11, (1,1)).item() # select number of nodes uniformly between 5 and 11\n",
        "  num_edges = torch.randint(1,10, (1,1)).item() # select number of hyper edges uniformly between 5 and 11\n",
        "  nnz = torch.randint(num_edges, num_vertices*num_edges, (1,1)).item() # number of nnz in incidence matrix\n",
        "\n",
        "  X = torch.rand((num_vertices, 6)) # randomly generate features\n",
        "  y = torch.rand(1) # dummy label\n",
        "\n",
        "  #randomly generate incidence matrix\n",
        "  hyper_edge_index = torch.concat((torch.randint(0, num_vertices, (1,nnz)),\n",
        "                                   torch.randint(0, num_edges, (1,nnz))), dim = 0)\n",
        "\n",
        "  #create hypergraph as hnxHyperGraph to check connectivity\n",
        "  hypergraph = hnxHyperGraph(HyperGraph(hyper_edge_index, X, y))\n",
        "\n",
        "  #check if hypergraph is connected or not\n",
        "  if hypergraph.is_connected() == True:\n",
        "    number_connected +=1\n",
        "    # assign label of 1 if connected\n",
        "    Hypergraph_Dataset.append(HyperGraph(hyper_edge_index, X,  torch.tensor(1)))\n",
        "  else:\n",
        "    number_not_connected +=1\n",
        "    # assign label of 0 if not connected\n",
        "    Hypergraph_Dataset.append(HyperGraph(hyper_edge_index, X,  torch.tensor(0)))\n",
        "\n",
        "\n",
        "print(f'Number of connected hypergraphs in our dataset = {number_connected} out of {1000} hypergraphs')\n"
      ]
    },
    {
      "cell_type": "markdown",
      "metadata": {
        "id": "0MADSDtRW8h0"
      },
      "source": [
        "Let us visualise the 11'th hypergraph in our dataset together with our label."
      ]
    },
    {
      "cell_type": "code",
      "execution_count": null,
      "metadata": {
        "id": "bo7CVGckFSCm"
      },
      "outputs": [],
      "source": [
        "visualise(Hypergraph_Dataset[10])\n",
        "print(Hypergraph_Dataset[10].incidence_matrix().shape)"
      ]
    },
    {
      "cell_type": "code",
      "execution_count": null,
      "metadata": {
        "colab": {
          "base_uri": "https://localhost:8080/"
        },
        "id": "OAUT0cRsuhtp",
        "outputId": "19498ddf-11af-48b8-bfdd-da6809c1d8c9"
      },
      "outputs": [
        {
          "output_type": "stream",
          "name": "stdout",
          "text": [
            "torch.Size([9, 9])\n"
          ]
        }
      ],
      "source": [
        "# Hypergraph_Dataset\n",
        "\n",
        "## We now need to split our dataset into testing, training and validation subset\n",
        "\n",
        "train_data = Hypergraph_Dataset[0:700]\n",
        "validation_data = Hypergraph_Dataset[700:850]\n",
        "test_data = Hypergraph_Dataset[850:]"
      ]
    },
    {
      "cell_type": "markdown",
      "metadata": {
        "id": "PTH6xfvCs3Mn"
      },
      "source": [
        "⛵ **Batching**\n",
        "\n",
        "Similar to any other deep learning field, when doing hypergraph level prediction, it is good practice to process these in batches. But how do we build these batches?\n",
        "\n",
        "One solution for this is to create a single *sparse* hypergraph as the union of all the hypergraphs in the batch as follow:\n",
        "\n",
        "1. stack the features $x$ for all the nodes in all the hypergraphs\n",
        "2. stack the labels $y$ for all the nodes in all the hypergraphs\n",
        "3. stack all the incidence matrices $H_i$ as diagonal blocks in the new incidence matrix\n",
        "\n",
        "This way, we will obtain a new hypergraph containing $\\sum_{i=1}^{B}|V_i|$ nodes, where $B$ is the batch_size and by $|V_i|$ we denote the number of nodes in hypergraph $i$. Note that since **no** hyperedges connect nodes from different hypergraphs,  the  information propagation will not be affected by the way we store it.\n",
        "\n",
        "<center>\n",
        "<img src=\"https://drive.google.com/uc?export=view&id=1B5dBPog-H839dqK7FkHX_h5gKShhBKRb\"  width=\"800\">\n",
        "<center>\n",
        "\n",
        "\n"
      ]
    },
    {
      "cell_type": "code",
      "execution_count": null,
      "metadata": {
        "id": "SQYi9MF9UW0w"
      },
      "outputs": [],
      "source": [
        "def create_mini_batch(hgraph_list) -> Graph:\n",
        "    \"\"\" Built a sparse graph from a batch of graphs\n",
        "    Args:\n",
        "        graph_list: list of Graph objects in a batch\n",
        "    Returns:\n",
        "        a big (sparse) Graph representing the entire batch\n",
        "    \"\"\"\n",
        "    #insert first graph into the structure\n",
        "    batch_edge_index = hgraph_list[0].hyper_edge_index\n",
        "    batch_x = hgraph_list[0].x\n",
        "    batch_y = [hgraph_list[0].y.item()]\n",
        "    batch_batch = torch.zeros((hgraph_list[0].num_nodes), dtype=torch.int64)\n",
        "    num_nodes=hgraph_list[0].num_nodes\n",
        "    num_hyper_edges = hgraph_list[0].num_hyper_edges\n",
        "\n",
        "    #append the rest of the graphs to the structure\n",
        "    for idx, graph in enumerate(hgraph_list[1:]):\n",
        "        # concat the features\n",
        "        batch_x = torch.concat([batch_x, graph.x], dim=0)\n",
        "        # concat the labels\n",
        "        batch_y.append(graph.y.item())\n",
        "\n",
        "        # concat the adjacency matrix as a block diagonal matrix\n",
        "        current_hyper_edge_index = graph.hyper_edge_index[1,:] + num_hyper_edges\n",
        "        current_node_index = graph.hyper_edge_index[0,:] + num_nodes\n",
        "        current_index = torch.concat([current_node_index.unsqueeze(0), current_hyper_edge_index.unsqueeze(0)], dim=0)\n",
        "        num_nodes+=graph.num_nodes\n",
        "        num_hyper_edges+=graph.num_hyper_edges\n",
        "\n",
        "\n",
        "\n",
        "        batch_edge_index = torch.concat([batch_edge_index, current_index], dim = 1)\n",
        "        # ==========================================\n",
        "\n",
        "        # create the array of indexes mapping nodes in the batch-graph\n",
        "        # to the graph they belong to\n",
        "        # specify the mapping between the new nodes and the graph they belong to (idx+1)\n",
        "        batch_batch = torch.concat([batch_batch, (idx+1)*torch.ones([graph.num_nodes]).to(torch.int64)])\n",
        "        # ==========================================\n",
        "        pass\n",
        "\n",
        "    #create the big sparse graph\n",
        "    batch_graph = HyperGraph(batch_edge_index, batch_x, torch.tensor(batch_y))\n",
        "    #attach the index array to the Graph structure\n",
        "    batch_graph.set_batch(batch_batch)\n",
        "    # print(batch_batch.dtype)\n",
        "    return batch_graph"
      ]
    },
    {
      "cell_type": "markdown",
      "metadata": {
        "id": "LAJIBSQcvHln"
      },
      "source": [
        "Let's visualise a few of the graphs turned into a larger batch of graphs."
      ]
    },
    {
      "cell_type": "code",
      "execution_count": null,
      "metadata": {
        "colab": {
          "base_uri": "https://localhost:8080/",
          "height": 909
        },
        "id": "ihKRhmAFVnAB",
        "outputId": "c39e3548-6f59-4965-e50a-f7c0ab17ef58"
      },
      "outputs": [
        {
          "output_type": "stream",
          "name": "stdout",
          "text": [
            "torch.Size([7, 1])\n",
            "torch.Size([7, 3])\n",
            "torch.Size([7, 3])\n"
          ]
        },
        {
          "output_type": "stream",
          "name": "stderr",
          "text": [
            "/usr/local/lib/python3.10/dist-packages/hypernetx/classes/entity.py:1387: RuntimeWarning: The values in the array are unorderable. Pass `sort=False` to suppress this warning.\n",
            "  properties = props.combine_first(self.properties)\n",
            "/usr/local/lib/python3.10/dist-packages/hypernetx/classes/entity.py:1390: RuntimeWarning: The values in the array are unorderable. Pass `sort=False` to suppress this warning.\n",
            "  properties[self._misc_props_col] = self.properties[\n",
            "/usr/local/lib/python3.10/dist-packages/hypernetx/classes/entity.py:1387: RuntimeWarning: The values in the array are unorderable. Pass `sort=False` to suppress this warning.\n",
            "  properties = props.combine_first(self.properties)\n",
            "/usr/local/lib/python3.10/dist-packages/hypernetx/classes/entity.py:1390: RuntimeWarning: The values in the array are unorderable. Pass `sort=False` to suppress this warning.\n",
            "  properties[self._misc_props_col] = self.properties[\n"
          ]
        },
        {
          "output_type": "display_data",
          "data": {
            "text/plain": [
              "<Figure size 800x800 with 1 Axes>"
            ],
            "image/png": "[encoded data removed]"
          },
          "metadata": {}
        },
        {
          "output_type": "stream",
          "name": "stdout",
          "text": [
            "torch.Size([21, 7])\n"
          ]
        }
      ],
      "source": [
        "smaller_list = Hypergraph_Dataset[0:3]\n",
        "print(smaller_list[0].incidence_matrix().shape)\n",
        "print(smaller_list[1].incidence_matrix().shape)\n",
        "print(smaller_list[2].incidence_matrix().shape)\n",
        "\n",
        "batch_graph = create_mini_batch(smaller_list)\n",
        "visualise(batch_graph)\n",
        "print(batch_graph.incidence_matrix().shape)\n",
        "\n",
        "\n"
      ]
    },
    {
      "cell_type": "markdown",
      "metadata": {
        "id": "U_y20A0BvQX8"
      },
      "source": [
        "A simple way of aggregating information from node-level representation to obtain hypergraph-level predictions is by (max/mean/sum) pooling. This can be efficiently obtained using the [`torch_scatter`](https://pytorch-scatter.readthedocs.io/en/1.3.0/functions/mean.html) library containing operations such as `scatter_mean`, `scatter_max`, `scatter_sum`.\n",
        "\n",
        " `scatter_*` receives as input a tensor and an array of indices and pools the information in the tensor stored at the indices specified in the array.\n",
        "\n",
        " In order to do this, we need to know for every node, what hypergraph it belongs to. This is stored in `batch_batch` variable of our `create_mini_batch` function."
      ]
    },
    {
      "cell_type": "markdown",
      "metadata": {
        "id": "PDAKzl3Ew1th"
      },
      "source": [
        "Visualisation for `scatter_sum(array, index)`:\n",
        "\n",
        "\\\\\n",
        "\n",
        "<!-- <center> -->\n",
        "<img src=\"https://drive.google.com/uc?export=view&id=16E9Nyd-mPdYBWm923joWKJx4JR8c8pCz\" width=\"600\">\n",
        "<!-- </center> -->"
      ]
    },
    {
      "cell_type": "code",
      "execution_count": null,
      "metadata": {
        "id": "ReTdjkZXxtUl"
      },
      "outputs": [],
      "source": [
        "class GHyperNNLayer(nn.Module):\n",
        "  def __init__(self, input_dim, output_dim):\n",
        "    \"\"\"\n",
        "    One layer of hypergraph neural network\n",
        "\n",
        "    Args:\n",
        "      input_dim : number of features of each node in hyergraph\n",
        "      output_dim : number of output features\n",
        "    \"\"\"\n",
        "    super(GHyperNNLayer, self).__init__()\n",
        "    self.input_dim = input_dim\n",
        "    self.output_dim = output_dim\n",
        "    self.Linear = nn.Linear(input_dim,output_dim)\n",
        "\n",
        "  def forward(self, x,H):\n",
        "    \"\"\"\n",
        "    Args:\n",
        "      x : feature matrix [num_nodes, input_dim]\n",
        "      H : incidence matrix [num_nodes, num_hyper_edges]\n",
        "    returns:\n",
        "      x : output of one layer of hypergraph neural network [num_nodes, output_dim]\n",
        "    \"\"\"\n",
        "\n",
        "    # compute degree of nodes (D_v)^-0.5\n",
        "    degree_of_nodes = torch.nan_to_num(torch.pow(torch.diag(torch.sum(H, dim=-1)), -0.5), nan=0, posinf=0, neginf=0).to(torch.float32)\n",
        "    # compute degree of hyper edges (D_e)^-1\n",
        "    degree_of_edges = torch.nan_to_num(torch.pow(torch.diag(torch.sum(H, dim=0)), -1.0), nan=0, posinf=0, neginf=0).to(torch.float32)\n",
        "\n",
        "    # compute D_v^-0.5 H D_e^-1 H^T D_v^-0.5 x\n",
        "    x = degree_of_nodes @ x\n",
        "    x = torch.transpose(H, 0, 1) @ x\n",
        "    x = degree_of_edges @ x\n",
        "    x = H @ x\n",
        "    x = degree_of_nodes @ x\n",
        "\n",
        "    #apply linear layer\n",
        "    x = self.Linear(x)\n",
        "    return x\n",
        "\n",
        "class GHyperNN(nn.Module):\n",
        "  def __init__(self, input_dim, output_dim, hidden_dim, num_layers):\n",
        "    \"\"\"\n",
        "    Hypergraph neural network containing num_layers GHyperNNLayer for hypergraph\n",
        "    level prediction\n",
        "\n",
        "    Args:\n",
        "      input_dim : number of features of each node in hyergraph\n",
        "      output_dim : number of output features\n",
        "      hidden_dim : hidden dimension\n",
        "      num_layers : number of layers\n",
        "    \"\"\"\n",
        "    super(GHyperNN, self).__init__()\n",
        "    self.input_dim = input_dim\n",
        "    self.output_dim = output_dim\n",
        "    self.hidden_dim=hidden_dim\n",
        "\n",
        "    if num_layers > 1:\n",
        "      self.hnn_layers = [GHyperNNLayer(input_dim, hidden_dim)]\n",
        "      self.hnn_layers+= [GHyperNNLayer(hidden_dim, hidden_dim) for i in range(num_layers-2)]\n",
        "      self.hnn_layers+= [GHyperNNLayer(hidden_dim, output_dim)]\n",
        "    else:\n",
        "      self.hnn_layers = [GHyperNNLayer(input_dim, output_dim)]\n",
        "\n",
        "    self.hnn_layers = nn.ModuleList(self.hnn_layers)\n",
        "    self.num_layers = num_layers\n",
        "\n",
        "  def forward(self,hgraph):\n",
        "    \"\"\"\n",
        "    Args:\n",
        "      hgraph : input hypergraph stored as HyperGraph class formed as a batch\n",
        "    returns:\n",
        "      y_hat : logits for each hypergraph in batch [batch_size, output_dim]\n",
        "    \"\"\"\n",
        "    H = hgraph.incidence_matrix()\n",
        "    x = hgraph.x.to(torch.float32)\n",
        "    batch = hgraph.batch\n",
        "    for j in range(self.num_layers-1):\n",
        "      x = self.hnn_layers[j](x,H)\n",
        "      x=F.relu(x)\n",
        "    x = self.hnn_layers[self.num_layers-1](x, H)\n",
        "\n",
        "    y_hat = scatter_mean(x, batch, dim=0)\n",
        "    return y_hat"
      ]
    },
    {
      "cell_type": "code",
      "execution_count": null,
      "metadata": {
        "cellView": "form",
        "colab": {
          "base_uri": "https://localhost:8080/"
        },
        "id": "YE3w_hIk4IlQ",
        "outputId": "a4a8035b-59f6-4fee-ddc2-503891d411bf"
      },
      "outputs": [
        {
          "output_type": "stream",
          "name": "stdout",
          "text": [
            "All good!\n"
          ]
        },
        {
          "output_type": "execute_result",
          "data": {
            "text/plain": [
              "<torch._C.Generator at 0x7f243da54110>"
            ]
          },
          "metadata": {},
          "execution_count": 24
        }
      ],
      "source": [
        "# @title ✅ [RUN] **Please run this unit test to validate your code. You might still have bugs but this is a good sanity check.**\n",
        "def testing_hnn():\n",
        "  torch.random.manual_seed(0)\n",
        "  np.random.seed(0)\n",
        "\n",
        "  input_dim = 6\n",
        "  output_dim = 2\n",
        "  hidden_dim = 128\n",
        "  hypergraph = Hypergraph_Dataset[0]\n",
        "  model = GHyperNN(input_dim, output_dim, hidden_dim, 3)\n",
        "  # visualise(hypergraph)\n",
        "  out = model(create_mini_batch([hypergraph]))\n",
        "\n",
        "  assert(out.shape[-1] ==  output_dim), \"Oups! 🤭 Output shape is wrong\"\n",
        "\n",
        "  np.random.seed(0)\n",
        "  perm_x = torch.tensor(np.random.permutation(hypergraph.x.numpy()))\n",
        "\n",
        "\n",
        "  H = hypergraph.incidence_matrix()\n",
        "\n",
        "\n",
        "  np.random.seed(0)\n",
        "  A_perm = torch.tensor(np.random.permutation(H.numpy()))\n",
        "  A_perm = incidence_to_edgeindex(A_perm)\n",
        "  perm_hypergraph = HyperGraph(A_perm, perm_x, hypergraph.y)\n",
        "  torch.random.manual_seed(0)\n",
        "\n",
        "  # visualise(perm_hypergraph)\n",
        "  # visualise(hypergraph)\n",
        "  out_model_perm = model(create_mini_batch([perm_hypergraph]))\n",
        "\n",
        "\n",
        "  assert (torch.allclose(out, out_model_perm, atol=1e-4)), \"🤔 Something is wrong in the model! You are not permuation invariant anymore 🥺\"\n",
        "  print(\"All good!\")\n",
        "\n",
        "testing_hnn()\n",
        "np.random.seed(None)\n",
        "torch.random.manual_seed(datetime.now().timestamp())"
      ]
    },
    {
      "cell_type": "code",
      "execution_count": null,
      "metadata": {
        "id": "9KmDtzO4dg-1"
      },
      "outputs": [],
      "source": [
        "BATCH_SIZE = 50 #@param {type:\"integer\"}\n",
        "learning_rate = 0.001 #@param {type: \"number\"}\n",
        "num_epochs = 10 #@param {type: \"integer\"}\n"
      ]
    },
    {
      "cell_type": "code",
      "execution_count": null,
      "metadata": {
        "id": "u-Q6KjVAc8ly"
      },
      "outputs": [],
      "source": [
        "def train(dataset, model, optimiser, epoch, loss_fct, metric_fct, print_every = 50):\n",
        "    \"\"\" Train model for one epoch\n",
        "    \"\"\"\n",
        "    model.train()\n",
        "    num_iter = int(len(dataset)/BATCH_SIZE)\n",
        "    for i in range(num_iter):\n",
        "        batch_list = dataset[i*BATCH_SIZE:(i+1)*BATCH_SIZE]\n",
        "        batch = create_mini_batch(batch_list)\n",
        "        optimiser.zero_grad()\n",
        "        y_hat= model(batch)\n",
        "        loss = loss_fct(y_hat, batch.y)\n",
        "        metric = metric_fct(y_hat, batch.y)\n",
        "        loss.backward()\n",
        "        optimiser.step()\n",
        "        if (i+1) % print_every == 0:\n",
        "          print(f\"Epoch {epoch} Iter {i}/{num_iter}\",\n",
        "                    f\"Loss train {loss}; Metric train {metric}\")\n",
        "    return loss, metric\n",
        "\n",
        "def evaluate(dataset, model, loss_fct, metrics_fct):\n",
        "    \"\"\" Evaluate model on dataset\n",
        "    \"\"\"\n",
        "    model.eval()\n",
        "    # be careful in practice, as doing this way we will lose some\n",
        "    # examples from the validation split, when len(dataset)%BATCH_SIZE != 0\n",
        "    # think about how can you fix this!\n",
        "    num_iter = int(len(dataset)/BATCH_SIZE)\n",
        "    metrics_eval = 0\n",
        "    loss_eval = 0\n",
        "    for i in range(num_iter):\n",
        "        batch_list = dataset[i*BATCH_SIZE:(i+1)*BATCH_SIZE]\n",
        "        batch = create_mini_batch(batch_list)\n",
        "\n",
        "\n",
        "        y_hat = model(batch).to(torch.float32)\n",
        "\n",
        "        metrics = metrics_fct(y_hat, batch.y)\n",
        "        loss = loss_fct(y_hat, batch.y)\n",
        "\n",
        "        metrics_eval += metrics\n",
        "        loss_eval += loss.detach()\n",
        "    metrics_eval /= num_iter\n",
        "    loss_eval /= num_iter\n",
        "    return loss_eval, metrics_eval"
      ]
    },
    {
      "cell_type": "code",
      "execution_count": null,
      "metadata": {
        "id": "7UeZlb8md8hA"
      },
      "outputs": [],
      "source": [
        "def train_eval(model, train_dataset, val_dataset, test_dataset,\n",
        "               loss_fct, metric_fct, print_every=1):\n",
        "    \"\"\" Train the model for NUM_EPOCHS epochs\n",
        "    \"\"\"\n",
        "    #Instantiatie our optimiser\n",
        "    optimiser = optim.Adam(model.parameters(), lr=learning_rate)\n",
        "    training_stats = None\n",
        "\n",
        "    #initial evaluation (before training)\n",
        "    val_loss, val_metric = evaluate(val_dataset, model, loss_fct, metric_fct)\n",
        "    train_loss, train_metric = evaluate(train_dataset[:BATCH_SIZE], model,\n",
        "                                        loss_fct, metric_fct)\n",
        "    epoch_stats = {'train_loss': train_loss.detach(), 'val_loss': val_loss.detach(),\n",
        "                      'train_metric': train_metric, 'val_metric': val_metric,\n",
        "                      'epoch':0}\n",
        "    training_stats = update_stats(training_stats, epoch_stats)\n",
        "\n",
        "    for epoch in range(num_epochs):\n",
        "        if isinstance(train_dataset, list):\n",
        "            random.shuffle(train_dataset)\n",
        "        else:\n",
        "            train_dataset.shuffle()\n",
        "        train_loss, train_metric = train(train_dataset, model, optimiser, epoch,\n",
        "                                        loss_fct, metric_fct, print_every)\n",
        "        val_loss, val_metric = evaluate(val_dataset, model, loss_fct, metric_fct)\n",
        "        print(f\"[Epoch {epoch+1}]\",\n",
        "                    f\"train loss: {train_loss:.3f} val loss: {val_loss:.3f}\",\n",
        "                    f\"train metric: {train_metric:.3f} val metric: {val_metric:.3f}\"\n",
        "              )\n",
        "        # store the loss and the computed metric for the final plot\n",
        "        epoch_stats = {'train_loss': train_loss.detach(), 'val_loss': val_loss.detach(),\n",
        "                      'train_metric': train_metric, 'val_metric': val_metric,\n",
        "                      'epoch':epoch+1}\n",
        "        training_stats = update_stats(training_stats, epoch_stats)\n",
        "\n",
        "    test_loss, test_metric = evaluate(test_dataset, model,  loss_fct, metric_fct)\n",
        "    print(f\"Test metric: {test_metric:.3f}\")\n",
        "    return training_stats"
      ]
    },
    {
      "cell_type": "code",
      "execution_count": null,
      "metadata": {
        "colab": {
          "base_uri": "https://localhost:8080/",
          "height": 661
        },
        "id": "Q5u_wmlKz60x",
        "outputId": "75537fd0-4677-4843-f48b-ae9af4c2e27a"
      },
      "outputs": [
        {
          "output_type": "stream",
          "name": "stdout",
          "text": [
            "[Epoch 1] train loss: 0.699 val loss: 0.714 train metric: 0.480 val metric: 0.427\n",
            "[Epoch 2] train loss: 0.689 val loss: 0.710 train metric: 0.520 val metric: 0.427\n",
            "[Epoch 3] train loss: 0.689 val loss: 0.706 train metric: 0.520 val metric: 0.427\n",
            "[Epoch 4] train loss: 0.700 val loss: 0.704 train metric: 0.440 val metric: 0.427\n",
            "[Epoch 5] train loss: 0.703 val loss: 0.702 train metric: 0.400 val metric: 0.427\n",
            "[Epoch 6] train loss: 0.711 val loss: 0.699 train metric: 0.360 val metric: 0.427\n",
            "[Epoch 7] train loss: 0.697 val loss: 0.697 train metric: 0.420 val metric: 0.427\n",
            "[Epoch 8] train loss: 0.701 val loss: 0.695 train metric: 0.340 val metric: 0.427\n",
            "[Epoch 9] train loss: 0.693 val loss: 0.693 train metric: 0.420 val metric: 0.427\n",
            "[Epoch 10] train loss: 0.687 val loss: 0.691 train metric: 0.460 val metric: 0.427\n",
            "Test metric: 0.427\n"
          ]
        },
        {
          "output_type": "display_data",
          "data": {
            "text/plain": [
              "<Figure size 500x500 with 2 Axes>"
            ],
            "image/png": "[encoded data removed]"
          },
          "metadata": {}
        }
      ],
      "source": [
        "model = GHyperNN(6, 2, 10, 3)\n",
        "\n",
        "graph_level_out = train_eval(model, train_data, validation_data, test_data,loss_fct=F.cross_entropy, metric_fct=quick_accuracy, print_every=140)\n",
        "plot_stats(graph_level_out)"
      ]
    },
    {
      "cell_type": "markdown",
      "metadata": {
        "id": "6Pr0VN9dvkID"
      },
      "source": [
        "# 🛑 **Part 4**: Adding attention\n",
        "\n",
        "Attention proved to be beneficial for several architectures such as CNNs, RNNs and GNNs. In this final section, we will demonstrate a technique that allows us to integrate attention to our [hypergraph model](https://arxiv.org/abs/1901.08150).\n",
        "\n",
        "So far in our HGNN, we have been weighting the contribution from each of the hyperedges that contain a given node equally. The goal of adding attention is to allow the model to learn the weighting for each of them, allowing larger contribution from more 'important' hyperedges and ignoring irrelevant ones.\n",
        "\n",
        "To predict this new incidence matrix, for each pair containing the representation of a node and the representation of an incident hyperedge we need to predict a score. To do this we use a technique known broadcasting to create a matrix $B$ of size number_of_nodes $\\times$ number_of_hyperedges $\\times$(number_of_node_features + number_of_hyperedge_features) with $$ B_{i,j} = x_i || e_j $$ where $x_i$ is features of node $i$ and $e_j$ is hyperedge features of hyperedge $j$.\n",
        "\n",
        "\n",
        "\n",
        "<center>\n",
        "<img src=\"https://drive.google.com/uc?export=view&id=1Y6nDj4PYgqPQ8JLYyB1yvuI3he6Mg7kY\"  width=\"800\">\n",
        "</center>\n",
        "\n",
        "\n",
        "\n",
        "Let's see how it works.\n",
        "\n",
        "\n",
        "\n"
      ]
    },
    {
      "cell_type": "code",
      "source": [
        "# Given 2 tensors a and b, we want to generate (a_i || b_j) for all (i,j) pairs\n",
        "# a: [6, 5]\n",
        "# b: [10, 7]\n",
        "# broadcast_a_b -> [6, 10, 5+7]\n",
        "\n",
        "a = torch.rand((6,5))\n",
        "b = torch.rand((10,7))\n",
        "\n",
        "# expand first tensor on the 2nd dimension and second tensor on the 1st dimension\n",
        "a = a.unsqueeze(1) # a: [6,1,5]\n",
        "b = b.unsqueeze(0) # b: [1,10,7]\n",
        "\n",
        "# repeat the expanded dimensions to create tensors having the same dimension everywhere\n",
        "# except from the dim where the concatenation will happen (last one in our case)\n",
        "a = a.repeat(1, b.shape[1], 1) # a: [6,10,5]\n",
        "b = b.repeat(a.shape[0], 1, 1) # b: [6,10,7]\n",
        "\n",
        "# concatenate the 2 volumes on the last dimension\n",
        "broadcast_a_b =  torch.concat((a, b), -1) # broadcast_a_b: [6,10,12]\n",
        "\n",
        "print('Output shape is', broadcast_a_b.shape)"
      ],
      "metadata": {
        "colab": {
          "base_uri": "https://localhost:8080/"
        },
        "id": "arC5sfmGIynY",
        "outputId": "2d4379f0-6827-469d-ed56-b7bfa1fe6414"
      },
      "execution_count": null,
      "outputs": [
        {
          "output_type": "stream",
          "name": "stdout",
          "text": [
            "Output shape is torch.Size([6, 10, 12])\n"
          ]
        }
      ]
    },
    {
      "cell_type": "markdown",
      "source": [
        "We then project these, through a learnable linear layer, into a scalar and used that as a weighted incidence matrix $H_{ij}$.\n",
        "\n",
        "Often datasets do not come attached with hyperedge features, but this does not mean you cannot apply attention to your model. You will need to infer hyperedge features from the node features. You can do this with any permutation invariant operation, such as sum, max, min, mean."
      ],
      "metadata": {
        "id": "XYO3gM_ny03H"
      }
    },
    {
      "cell_type": "code",
      "execution_count": null,
      "metadata": {
        "id": "vbngXRuPbEno"
      },
      "outputs": [],
      "source": [
        "class HyperGatLayer(nn.Module):\n",
        "  def __init__(self, input_dim, output_dim):\n",
        "    \"\"\"\n",
        "    One layer of hypergraph attention neural network\n",
        "\n",
        "    Args:\n",
        "      input_dim : number of features of each node in hyergraph\n",
        "      output_dim : number of output features\n",
        "    \"\"\"\n",
        "    super(HyperGatLayer, self).__init__()\n",
        "    self.input_dim = input_dim\n",
        "    self.output_dim = output_dim\n",
        "    self.final_Linear = nn.Linear(input_dim, output_dim)\n",
        "    self.mlp1 = nn.Linear(2*input_dim, 2*input_dim)\n",
        "    self.mlp2 = nn.Linear(2*input_dim, 1)\n",
        "\n",
        "  def forward(self, H, x):\n",
        "    \"\"\"\n",
        "    Args:\n",
        "      x : feature matrix [num_nodes, input_dim]\n",
        "      H : incidence matrix [num_nodes, num_hyper_edges]\n",
        "    returns:\n",
        "      x : output of one layer of hypergraph neural network [num_nodes, output_dim]\n",
        "    \"\"\"\n",
        "    num_nodes = x.shape[0]\n",
        "    num_edges = H.shape[-1]\n",
        "\n",
        "    # compute degree of nodes (D_v)^-0.5\n",
        "    degree_of_nodes = torch.nan_to_num(torch.pow(torch.diag(torch.sum(H, dim=-1)), -0.5), nan=0, posinf=0, neginf=0).to(torch.float32)\n",
        "    # compute degree of hyper edges (D_e)^-1\n",
        "    degree_of_edges = torch.nan_to_num(torch.pow(torch.diag(torch.sum(H, dim=0)), -1.0), nan=0, posinf=0, neginf=0).to(torch.float32)\n",
        "\n",
        "    # create features for each hyperedges and put in format for broadcasting\n",
        "    edge_features = torch.transpose(H, 0, 1) @ x\n",
        "\n",
        "    # reshape edge features  for broadcasting\n",
        "    edge_features = edge_features.unsqueeze(0) # [1 x num_edges x input_dim]\n",
        "    edge_features = edge_features.repeat(num_nodes, 1, 1) # [num_nodes x num_edges x input_dim]\n",
        "\n",
        "    # put node features in format for broadcasting\n",
        "    x_1 = x.unsqueeze(1) # [num_nodes x 1 x input_dim]\n",
        "    x_1 = x_1.repeat(1, num_edges, 1) # [num_nodes x num_edges x input_dim]\n",
        "\n",
        "    # concatenate node and hyperedge features\n",
        "    concat_features = torch.concat((x_1, edge_features), -1)\n",
        "\n",
        "    # apply MLP to obtain a scalar score for each(node, hedge pair)\n",
        "    H_tilda = self.mlp2(F.relu(self.mlp1(concat_features))).squeeze(-1)\n",
        "    # mask the weighted incidence matrix with the original H\n",
        "    H_tilda = F.sigmoid(H_tilda)*H\n",
        "\n",
        "    # compute the product replacing H with H_tilda and apply linear layer\n",
        "    product = degree_of_nodes @ H_tilda @ degree_of_edges @ torch.transpose(H_tilda, 0,1) @degree_of_nodes\n",
        "    projection = self.final_Linear(x)\n",
        "    x = product @ projection\n",
        "    return x\n",
        "\n",
        "\n",
        "class HyperGat(nn.Module):\n",
        "  def __init__(self, input_dim, output_dim, hidden_dim, num_layers):\n",
        "    \"\"\"\n",
        "    Hypergraph neural network containing num_layers GHyperNNLayer for hypergraph\n",
        "    level prediction\n",
        "\n",
        "    Args:\n",
        "      input_dim : number of features of each node in hyergraph\n",
        "      output_dim : number of output features\n",
        "      hidden_dim : hidden dimension\n",
        "      num_layers : number of layers\n",
        "    \"\"\"\n",
        "    super(HyperGat, self).__init__()\n",
        "    self.input_dim = input_dim\n",
        "    self.output_dim = output_dim\n",
        "    self.hidden_dim=hidden_dim\n",
        "\n",
        "    if num_layers > 1:\n",
        "      self.hnn_layers = [HyperGatLayer(input_dim, hidden_dim)]\n",
        "      self.hnn_layers+= [HyperGatLayer(hidden_dim, hidden_dim) for i in range(num_layers-2)]\n",
        "      self.hnn_layers+= [HyperGatLayer(hidden_dim, output_dim)]\n",
        "    else:\n",
        "      self.hnn_layers = [HyperGatLayer(input_dim, output_dim)]\n",
        "\n",
        "    self.hnn_layers = nn.ModuleList(self.hnn_layers)\n",
        "    self.num_layers = num_layers\n",
        "\n",
        "  def forward(self,hgraph):\n",
        "    \"\"\"\n",
        "    Args:\n",
        "      hgraph : input hypergraph stored as HyperGraph class formed as a batch\n",
        "    returns:\n",
        "      y_hat : logits for each hypergraph in batch [batch_size, output_dim]\n",
        "    \"\"\"\n",
        "    x = hgraph.x\n",
        "    y = hgraph.y\n",
        "    H = hgraph.incidence_matrix()\n",
        "    batch = hgraph.batch\n",
        "\n",
        "    for j in range(self.num_layers-1):\n",
        "      x = self.hnn_layers[j](H, x)\n",
        "      x = F.relu(x)\n",
        "    x = self.hnn_layers[-1](H,x)\n",
        "    y_hat = scatter_mean(x, batch, dim=0)\n",
        "    return y_hat"
      ]
    },
    {
      "cell_type": "code",
      "execution_count": null,
      "metadata": {
        "cellView": "form",
        "id": "dNNW2qU53b_B"
      },
      "outputs": [],
      "source": [
        "# @title ✅ [RUN] **Please run this unit test to validate your code. You might still have bugs but this is a good sanity check.**\n",
        "def testing_hnn():\n",
        "  torch.random.manual_seed(0)\n",
        "  np.random.seed(0)\n",
        "\n",
        "  input_dim = 6\n",
        "  output_dim = 2\n",
        "  hidden_dim = 128\n",
        "  hypergraph = Hypergraph_Dataset[0]\n",
        "  model = HyperGat(input_dim, output_dim, hidden_dim, 3)\n",
        "  # visualise(hypergraph)\n",
        "  out = model(create_mini_batch([hypergraph]))\n",
        "\n",
        "  assert(out.shape[-1] ==  output_dim), \"Oups! 🤭 Output shape is wrong\"\n",
        "\n",
        "  np.random.seed(0)\n",
        "  perm_x = torch.tensor(np.random.permutation(hypergraph.x.numpy()))\n",
        "\n",
        "\n",
        "  H = hypergraph.incidence_matrix()\n",
        "\n",
        "\n",
        "  np.random.seed(0)\n",
        "  A_perm = torch.tensor(np.random.permutation(H.numpy()))\n",
        "  A_perm = incidence_to_edgeindex(A_perm)\n",
        "  perm_hypergraph = HyperGraph(A_perm, perm_x, hypergraph.y)\n",
        "  torch.random.manual_seed(0)\n",
        "\n",
        "  # visualise(perm_hypergraph)\n",
        "  # visualise(hypergraph)\n",
        "  out_model_perm = model(create_mini_batch([perm_hypergraph]))\n",
        "\n",
        "\n",
        "  assert (torch.allclose(out, out_model_perm, atol=1e-4)), \"🤔 Something is wrong in the model! You are not permuation invariant anymore 🥺\"\n",
        "  print(\"All good!\")\n",
        "\n",
        "testing_hnn()\n",
        "np.random.seed(None)\n",
        "torch.random.manual_seed(datetime.now().timestamp())"
      ]
    },
    {
      "cell_type": "code",
      "execution_count": null,
      "metadata": {
        "id": "9hmFOUnxU4Tl"
      },
      "outputs": [],
      "source": [
        "attention_model = HyperGat(6,2, 8, 3)\n",
        "attention_model_out = train_eval(attention_model, train_data, validation_data,\n",
        "                                 test_data,loss_fct=F.cross_entropy,\n",
        "                                 metric_fct=quick_accuracy, print_every=140)\n",
        "plot_stats(attention_model_out)"
      ]
    },
    {
      "cell_type": "markdown",
      "metadata": {
        "id": "snqwnrsIz29i"
      },
      "source": [
        "# ⭐️Further reading\n",
        "\n",
        "Hypergraph processing represent a new, fast-growing field of deep learning. This lab aims to guide you through understanding and familiarise yourself with the basics concepts in hypergraph learning. However, researchers works towards developing new, more powerful tools for creating hypergraph representations.\n",
        "\n",
        "If you are interested in finding more about hypergraphs, here are a selection of recent papers that you might find useful:\n",
        "\n",
        "[1] *HyperGCN: A New Method of Training Graph Convolutional Networks on Hypergraphs*, Yadati et al, NeurIPS 2019 \\\\\n",
        "[2] *HNHN: Hypergraph Networks with Hyperedge Neurons*, Dong et al GRLW 2020 \\\\\n",
        "[3] *Unignn: a unified framework for graph and hypergraph neural networks*, Huang et al, IJCAI 2021 \\\\\n",
        "[4] *Nonlinear higher-order label spreading*, Tudisco et al, WWW 2021 \\\\\n",
        "[5] *You are AllSet: A Multiset Function Framework for Hypergraph Neural Networks*, Chien et al, ICLR 2022 \\\\\n",
        "[6] *EvolveHypergraph: Group-Aware Dynamic Relational Reasoning for Trajectory Prediction*, Li et al, CVPR 2022 \\\\\n",
        "[7] *Equivariant Hypergraph Diffusion Neural Operators*, Wang et al, ICLR 2023 \\\\\n",
        "\n",
        "\n"
      ]
    }
  ],
  "metadata": {
    "colab": {
      "provenance": [],
      "include_colab_link": true
    },
    "gpuClass": "standard",
    "kernelspec": {
      "display_name": "Python 3",
      "name": "python3"
    },
    "language_info": {
      "name": "python"
    }
  },
  "nbformat": 4,
  "nbformat_minor": 0
}